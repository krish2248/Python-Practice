{
 "cells": [
  {
   "cell_type": "code",
   "execution_count": 24,
   "id": "1174a1b9",
   "metadata": {},
   "outputs": [
    {
     "name": "stdout",
     "output_type": "stream",
     "text": [
      "Student Score is : C = Avg\n"
     ]
    }
   ],
   "source": [
    "# Score System\n",
    "def result():\n",
    "    score = {\n",
    "        \"A\": \"Excellent\",\n",
    "        \"B\": \"Good\",\n",
    "        \"C\": \"Avg\",\n",
    "        \"D\": \"Below Avg\",\n",
    "        \"F\": \"Fail\"\n",
    "    }\n",
    "\n",
    "    marks = int(input(\"Enter Student Marks: \"))\n",
    "\n",
    "    if 90 <= marks <= 100:\n",
    "        print(f\"Student Score is : A = {score['A']}\")\n",
    "    elif 70 <= marks < 90:\n",
    "        print(f\"Student Score is : B = {score['B']}\")\n",
    "    elif 50 <= marks < 70:\n",
    "        print(f\"Student Score is : C = {score['C']}\")\n",
    "    elif 35 <= marks < 50:\n",
    "        print(f\"Student Score is : D = {score['D']}\")\n",
    "    elif 0 <= marks < 35:\n",
    "        print(f\"Student Score is : F = {score['F']}\")\n",
    "    else:\n",
    "        print(\"Invalid Input\")\n",
    "\n",
    "result()"
   ]
  },
  {
   "cell_type": "code",
   "execution_count": 25,
   "id": "48cd40b1",
   "metadata": {},
   "outputs": [
    {
     "name": "stdout",
     "output_type": "stream",
     "text": [
      "Student Score is : B = Good\n"
     ]
    }
   ],
   "source": [
    "result()"
   ]
  }
 ],
 "metadata": {
  "kernelspec": {
   "display_name": "Python 3",
   "language": "python",
   "name": "python3"
  },
  "language_info": {
   "codemirror_mode": {
    "name": "ipython",
    "version": 3
   },
   "file_extension": ".py",
   "mimetype": "text/x-python",
   "name": "python",
   "nbconvert_exporter": "python",
   "pygments_lexer": "ipython3",
   "version": "3.11.9"
  }
 },
 "nbformat": 4,
 "nbformat_minor": 5
}
