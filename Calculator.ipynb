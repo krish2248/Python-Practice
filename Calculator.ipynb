{
 "cells": [
  {
   "cell_type": "code",
   "execution_count": 18,
   "id": "ec482cc1",
   "metadata": {},
   "outputs": [],
   "source": [
    "#Defining Calculator as a function\n",
    "\n",
    "def calculator():\n",
    "    print(\"Welcome To Calcy-Coms \\nEnter Desired Choice of Operation\")\n",
    "    print(\"\\n 1.Addition\")\n",
    "    print(\"\\n 2.Substraction\")\n",
    "    print(\"\\n 3.Multiplication\")\n",
    "    print(\"\\n 4.Division\")\n",
    "    print(\"\\n 5.Percentage\")\n",
    "    print(\"\\n 6.Square\\n\")\n",
    "\n",
    "    choice = int(input(\"Enter Program Number\"))\n",
    "\n",
    "    if choice == 5:\n",
    "        print(\"Exit Program\")\n",
    "        return\n",
    "    \n",
    "    if choice == 6:\n",
    "        num = float(input(\"Enter Number\"))\n",
    "        print(num ** 2)\n",
    "        return\n",
    "\n",
    "    num1 = float(input(\"Enter First Number\"))\n",
    "    num2 = float(input(\"Enter Second Number\"))\n",
    "\n",
    "    if choice == 1:\n",
    "       print( \"Desired Outcome is : \\t\", num1 + num2)\n",
    "\n",
    "    elif choice == 2:\n",
    "        print(\"Desired Outcome is : \\t\",num1 - num2)\n",
    "\n",
    "    elif choice == 3:\n",
    "        print(\"Desired Outcome is : \\t\",num1 * num2)\n",
    "\n",
    "    elif choice == 4:\n",
    "        print(\"Desired Outcome is : \\t\",num1 / num2)\n",
    "    \n",
    "    elif choice == 5:\n",
    "        print(\"Desired Outcome is : \\t\",num1 / num2 * 100)\n",
    "\n",
    "    else:\n",
    "        print(\"Invalid Input\")\n"
   ]
  },
  {
   "cell_type": "code",
   "execution_count": 20,
   "id": "afaf9744",
   "metadata": {},
   "outputs": [
    {
     "name": "stdout",
     "output_type": "stream",
     "text": [
      "Welcome To Calcy-Coms \n",
      "Enter Desired Choice of Operation\n",
      "\n",
      " 1.Addition\n",
      "\n",
      " 2.Substraction\n",
      "\n",
      " 3.Multiplication\n",
      "\n",
      " 4.Division\n",
      "\n",
      " 5.Percentage\n",
      "\n",
      " 6.Square\n",
      "\n",
      "Exit Program\n"
     ]
    }
   ],
   "source": [
    "calculator()"
   ]
  }
 ],
 "metadata": {
  "kernelspec": {
   "display_name": "Python 3",
   "language": "python",
   "name": "python3"
  },
  "language_info": {
   "codemirror_mode": {
    "name": "ipython",
    "version": 3
   },
   "file_extension": ".py",
   "mimetype": "text/x-python",
   "name": "python",
   "nbconvert_exporter": "python",
   "pygments_lexer": "ipython3",
   "version": "3.11.9"
  }
 },
 "nbformat": 4,
 "nbformat_minor": 5
}
