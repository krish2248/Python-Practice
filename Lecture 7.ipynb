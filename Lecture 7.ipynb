{
 "cells": [
  {
   "cell_type": "code",
   "execution_count": 13,
   "id": "a4ccda01",
   "metadata": {},
   "outputs": [],
   "source": [
    "def func(fname):\n",
    "    print(fname + \" soni \")"
   ]
  },
  {
   "cell_type": "code",
   "execution_count": 15,
   "id": "94cdb893",
   "metadata": {},
   "outputs": [
    {
     "name": "stdout",
     "output_type": "stream",
     "text": [
      "krish soni \n"
     ]
    }
   ],
   "source": [
    "func(\"krish\")"
   ]
  },
  {
   "cell_type": "code",
   "execution_count": 28,
   "id": "e4001dc9",
   "metadata": {},
   "outputs": [],
   "source": [
    "#\n",
    "#"
   ]
  },
  {
   "cell_type": "code",
   "execution_count": 23,
   "id": "59fa2067",
   "metadata": {},
   "outputs": [],
   "source": [
    "def func(fname , lname):\n",
    "    print(fname + \" \" +lname)"
   ]
  },
  {
   "cell_type": "code",
   "execution_count": 24,
   "id": "bd3953e7",
   "metadata": {},
   "outputs": [
    {
     "name": "stdout",
     "output_type": "stream",
     "text": [
      "emily watson\n"
     ]
    }
   ],
   "source": [
    "func(\"emily\",\"watson\")"
   ]
  },
  {
   "cell_type": "code",
   "execution_count": 29,
   "id": "c3be1300",
   "metadata": {},
   "outputs": [],
   "source": [
    "#\n",
    "#"
   ]
  },
  {
   "cell_type": "code",
   "execution_count": 7,
   "id": "fc6c4cee",
   "metadata": {},
   "outputs": [],
   "source": [
    "def func(*name):\n",
    "    print(\"hello world\" + \" \" + name[3])"
   ]
  },
  {
   "cell_type": "code",
   "execution_count": 9,
   "id": "c302a89b",
   "metadata": {},
   "outputs": [
    {
     "name": "stdout",
     "output_type": "stream",
     "text": [
      "hello world dj\n"
     ]
    }
   ],
   "source": [
    "func(\"krish\",\"arya\", \"priyraj\", \"dj\")"
   ]
  },
  {
   "cell_type": "code",
   "execution_count": 30,
   "id": "afa47384",
   "metadata": {},
   "outputs": [],
   "source": [
    "#\n",
    "#"
   ]
  },
  {
   "cell_type": "code",
   "execution_count": 26,
   "id": "5176bc98",
   "metadata": {},
   "outputs": [],
   "source": [
    "def func(child1, child2, child3):\n",
    "    print(\"3rd child is : \" + \" \" + child3)"
   ]
  },
  {
   "cell_type": "code",
   "execution_count": 27,
   "id": "151015e6",
   "metadata": {},
   "outputs": [
    {
     "name": "stdout",
     "output_type": "stream",
     "text": [
      "3rd child is :  dj\n"
     ]
    }
   ],
   "source": [
    "func(child1 = \"krish\", child2 = \"priyraj\", child3 = \"dj\")"
   ]
  },
  {
   "cell_type": "code",
   "execution_count": 32,
   "id": "6b9b742b",
   "metadata": {},
   "outputs": [],
   "source": [
    "#\n",
    "#"
   ]
  },
  {
   "cell_type": "code",
   "execution_count": 33,
   "id": "89ba0f75",
   "metadata": {},
   "outputs": [],
   "source": [
    "def func(**kid):\n",
    "    print(\"the last name of kid is :\" + kid[\"lname\"])"
   ]
  },
  {
   "cell_type": "code",
   "execution_count": 34,
   "id": "b4ab1697",
   "metadata": {},
   "outputs": [
    {
     "name": "stdout",
     "output_type": "stream",
     "text": [
      "the last name of kid is :soni\n"
     ]
    }
   ],
   "source": [
    "func(fname = \"krish\", lname = \"soni\")"
   ]
  },
  {
   "cell_type": "code",
   "execution_count": 35,
   "id": "b8460809",
   "metadata": {},
   "outputs": [],
   "source": [
    "#\n",
    "#"
   ]
  },
  {
   "cell_type": "code",
   "execution_count": 38,
   "id": "d2a0aa75",
   "metadata": {},
   "outputs": [],
   "source": [
    "def func(country = \"Gaza\"):\n",
    "    print(\"die :\" + \" \" + country)"
   ]
  },
  {
   "cell_type": "code",
   "execution_count": 40,
   "id": "a4b642da",
   "metadata": {},
   "outputs": [
    {
     "name": "stdout",
     "output_type": "stream",
     "text": [
      "die : Pakistan\n"
     ]
    }
   ],
   "source": [
    "func(\"Pakistan\")"
   ]
  },
  {
   "cell_type": "code",
   "execution_count": 41,
   "id": "da11dfa2",
   "metadata": {},
   "outputs": [
    {
     "name": "stdout",
     "output_type": "stream",
     "text": [
      "die : Gaza\n"
     ]
    }
   ],
   "source": [
    "func()"
   ]
  },
  {
   "cell_type": "code",
   "execution_count": 42,
   "id": "4fd6eac5",
   "metadata": {},
   "outputs": [],
   "source": [
    "#\n",
    "#"
   ]
  },
  {
   "cell_type": "code",
   "execution_count": 48,
   "id": "58921c15",
   "metadata": {},
   "outputs": [],
   "source": [
    "def func(x):\n",
    "    return 5 * x\n"
   ]
  },
  {
   "cell_type": "code",
   "execution_count": 50,
   "id": "f807a8e0",
   "metadata": {},
   "outputs": [
    {
     "data": {
      "text/plain": [
       "25"
      ]
     },
     "execution_count": 50,
     "metadata": {},
     "output_type": "execute_result"
    }
   ],
   "source": [
    "func(5)"
   ]
  },
  {
   "cell_type": "code",
   "execution_count": 51,
   "id": "37e80792",
   "metadata": {},
   "outputs": [],
   "source": [
    "def func(a, b , /, *, c,d):\n",
    "    print(a + b + c + d)"
   ]
  },
  {
   "cell_type": "code",
   "execution_count": 53,
   "id": "96bac3c1",
   "metadata": {},
   "outputs": [
    {
     "name": "stdout",
     "output_type": "stream",
     "text": [
      "35\n"
     ]
    }
   ],
   "source": [
    "func(10,13, c = 1, d = 11)"
   ]
  },
  {
   "cell_type": "code",
   "execution_count": 54,
   "id": "9ea55f5f",
   "metadata": {},
   "outputs": [],
   "source": [
    "#\n",
    "#"
   ]
  },
  {
   "cell_type": "code",
   "execution_count": null,
   "id": "f113c9f0",
   "metadata": {},
   "outputs": [],
   "source": []
  }
 ],
 "metadata": {
  "kernelspec": {
   "display_name": "Python 3",
   "language": "python",
   "name": "python3"
  },
  "language_info": {
   "codemirror_mode": {
    "name": "ipython",
    "version": 3
   },
   "file_extension": ".py",
   "mimetype": "text/x-python",
   "name": "python",
   "nbconvert_exporter": "python",
   "pygments_lexer": "ipython3",
   "version": "3.11.9"
  }
 },
 "nbformat": 4,
 "nbformat_minor": 5
}
