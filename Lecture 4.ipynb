{
 "cells": [
  {
   "cell_type": "code",
   "execution_count": null,
   "id": "e3516c42",
   "metadata": {},
   "outputs": [],
   "source": [
    "i = 0\n",
    "while True:\n",
    "    print(i)\n",
    "    i = i+1"
   ]
  },
  {
   "cell_type": "code",
   "execution_count": 1,
   "id": "3923ec46",
   "metadata": {},
   "outputs": [
    {
     "name": "stdout",
     "output_type": "stream",
     "text": [
      "banana\n",
      "apple\n",
      "cherry\n"
     ]
    }
   ],
   "source": [
    "thislist = [\"banana\", \"apple\", \"cherry\"]\n",
    "i = 0\n",
    "while i < len(thislist):\n",
    "    print(thislist[i])\n",
    "    i = i+1"
   ]
  },
  {
   "cell_type": "code",
   "execution_count": 13,
   "id": "e38a5863",
   "metadata": {},
   "outputs": [
    {
     "name": "stdout",
     "output_type": "stream",
     "text": [
      "['apple', 'banana', 'cherry', 'kiwi', 'mango']\n"
     ]
    }
   ],
   "source": [
    "fruits = [\"apple\",\"banana\",\"cherry\",\"kiwi\",\"mango\"]\n",
    "newlist = []\n",
    "\n",
    "for x in fruits :\n",
    "    if \"k\" or \"a\" or \"m\" in x :\n",
    "            newlist.append(x)\n",
    "print(newlist)"
   ]
  },
  {
   "cell_type": "code",
   "execution_count": 18,
   "id": "86851b2b",
   "metadata": {},
   "outputs": [
    {
     "name": "stdout",
     "output_type": "stream",
     "text": [
      "['mango', 'kiwi', 'apple', 'Orange', 'Banana', '4', '3', '2', '1']\n"
     ]
    }
   ],
   "source": [
    "thislist = [\"Orange\", \"mango\", \"apple\",\"kiwi\", \"Banana\",\"1\", \"2\", \"3\", \"4\"]\n",
    "thislist.sort(reverse = True)\n",
    "print(thislist)"
   ]
  },
  {
   "cell_type": "code",
   "execution_count": 19,
   "id": "de43503b",
   "metadata": {},
   "outputs": [
    {
     "name": "stdout",
     "output_type": "stream",
     "text": [
      "['1', '2', '3', '4', 'Banana', 'Orange', 'apple', 'kiwi', 'mango']\n"
     ]
    }
   ],
   "source": [
    "thislist = [\"Orange\", \"mango\", \"apple\",\"kiwi\", \"Banana\",\"1\", \"2\", \"3\", \"4\"]\n",
    "thislist.sort()\n",
    "print(thislist)"
   ]
  },
  {
   "cell_type": "code",
   "execution_count": 20,
   "id": "ed15a1bf",
   "metadata": {},
   "outputs": [
    {
     "name": "stdout",
     "output_type": "stream",
     "text": [
      "['4', '3', '2', '1', 'Banana', 'kiwi', 'apple', 'mango', 'Orange']\n"
     ]
    }
   ],
   "source": [
    "thislist = [\"Orange\", \"mango\", \"apple\",\"kiwi\", \"Banana\",\"1\", \"2\", \"3\", \"4\"]\n",
    "thislist.reverse()\n",
    "print(thislist)"
   ]
  },
  {
   "cell_type": "code",
   "execution_count": 21,
   "id": "d38be693",
   "metadata": {},
   "outputs": [
    {
     "name": "stdout",
     "output_type": "stream",
     "text": [
      "['original', 'copyright', 'hardwork']\n"
     ]
    }
   ],
   "source": [
    "krish = [\"original\", \"copyright\", \"hardwork\"]\n",
    "\n",
    "priyraj = krish.copy()\n",
    "print(priyraj)"
   ]
  },
  {
   "cell_type": "code",
   "execution_count": 22,
   "id": "0d87a65a",
   "metadata": {},
   "outputs": [
    {
     "name": "stdout",
     "output_type": "stream",
     "text": [
      "['original', 'copyright', 'hardwork']\n"
     ]
    }
   ],
   "source": [
    "krish = [\"original\", \"copyright\", \"hardwork\"]\n",
    "\n",
    "priyraj = list(krish)\n",
    "\n",
    "print(priyraj)"
   ]
  },
  {
   "cell_type": "code",
   "execution_count": 26,
   "id": "5bab8b61",
   "metadata": {},
   "outputs": [
    {
     "name": "stdout",
     "output_type": "stream",
     "text": [
      "['original', 'copyright', 'hardwork']\n"
     ]
    }
   ],
   "source": [
    "krish = [\"original\", \"copyright\", \"hardwork\"]\n",
    "\n",
    "priyraj = krish[:]\n",
    "\n",
    "print(priyraj)"
   ]
  },
  {
   "cell_type": "code",
   "execution_count": 28,
   "id": "654621a6",
   "metadata": {},
   "outputs": [
    {
     "name": "stdout",
     "output_type": "stream",
     "text": [
      "['original', 'copyright', 'hardwork', 'original', 'copyright', 'hardwork']\n"
     ]
    }
   ],
   "source": [
    "krish = [\"original\", \"copyright\", \"hardwork\"]\n",
    "\n",
    "Priyraj =[\"original\", \"copyright\", \"hardwork\"]\n",
    "\n",
    "dj = krish + priyraj\n",
    "\n",
    "print(dj)"
   ]
  },
  {
   "cell_type": "code",
   "execution_count": 32,
   "id": "2c07ad51",
   "metadata": {},
   "outputs": [
    {
     "name": "stdout",
     "output_type": "stream",
     "text": [
      "['original', 'copyright', 'hardwork', 'original', 'copyright', 'hardwork']\n"
     ]
    }
   ],
   "source": [
    "list1 =[\"original\", \"copyright\", \"hardwork\"]\n",
    "list2 = [\"original\", \"copyright\", \"hardwork\"]\n",
    "\n",
    "for x in list1:\n",
    "    list2.append(x)\n",
    "\n",
    "print(list2)"
   ]
  },
  {
   "cell_type": "code",
   "execution_count": 33,
   "id": "9371e4ed",
   "metadata": {},
   "outputs": [
    {
     "name": "stdout",
     "output_type": "stream",
     "text": [
      "['original', 'copyright', 'hardwork', 'original', 'copyright', 'hardwork']\n"
     ]
    }
   ],
   "source": [
    "list1 =[\"original\", \"copyright\", \"hardwork\"]\n",
    "list2 = [\"original\", \"copyright\", \"hardwork\"]\n",
    "\n",
    "list1.extend(list2)\n",
    "\n",
    "print(list1)"
   ]
  },
  {
   "cell_type": "code",
   "execution_count": 45,
   "id": "729df2c7",
   "metadata": {},
   "outputs": [
    {
     "name": "stdout",
     "output_type": "stream",
     "text": [
      "soviet\n",
      "germany\n",
      "['ukraine', 'gaza', 'israel', 'usa']\n",
      "bulgary\n"
     ]
    }
   ],
   "source": [
    "list1 = (\"germany\", \"bulgary\",\"soviet\",\"ukraine\", \"gaza\", \"israel\", \"usa\")\n",
    "\n",
    "(usa, israel, gaza,*germany ) = list1\n",
    "\n",
    "print(gaza)\n",
    "print (usa)\n",
    "print(germany)\n",
    "print(israel)"
   ]
  },
  {
   "cell_type": "code",
   "execution_count": 50,
   "id": "d7d9d978",
   "metadata": {},
   "outputs": [
    {
     "name": "stdout",
     "output_type": "stream",
     "text": [
      "('apple', 'banana', 'cherry', 'apple', 'banana', 'cherry')\n"
     ]
    }
   ],
   "source": [
    "fruits = (\"apple\",\"banana\", \"cherry\")\n",
    "\n",
    "mytuple = fruits *2\n",
    "print(mytuple)"
   ]
  },
  {
   "cell_type": "code",
   "execution_count": 58,
   "id": "da46d75d",
   "metadata": {},
   "outputs": [
    {
     "name": "stdout",
     "output_type": "stream",
     "text": [
      "0\n",
      "1\n",
      "2\n",
      "3\n",
      "4\n",
      "5\n",
      "6\n",
      "7\n",
      "8\n"
     ]
    }
   ],
   "source": [
    "i = 0\n",
    "while i < 9:\n",
    "    print(i)\n",
    "    i += 1"
   ]
  },
  {
   "cell_type": "code",
   "execution_count": 62,
   "id": "d6635df2",
   "metadata": {},
   "outputs": [
    {
     "name": "stdout",
     "output_type": "stream",
     "text": [
      "0\n",
      "1\n",
      "2\n",
      "3\n",
      "4\n",
      "5\n",
      "6\n",
      "7\n",
      "8\n",
      "9\n"
     ]
    }
   ],
   "source": [
    "i = 0\n",
    "while i < 11:\n",
    "   print(i)\n",
    "   if i==9:\n",
    "    break \n",
    "   i += 1"
   ]
  },
  {
   "cell_type": "code",
   "execution_count": 68,
   "id": "be0cc507",
   "metadata": {},
   "outputs": [
    {
     "name": "stdout",
     "output_type": "stream",
     "text": [
      "1\n",
      "2\n",
      "4\n",
      "5\n",
      "6\n"
     ]
    }
   ],
   "source": [
    "i = 0\n",
    "\n",
    "while i < 6:\n",
    "    i += 1\n",
    "    if i == 3:\n",
    "        continue\n",
    "    print(i)\n",
    "\n"
   ]
  },
  {
   "cell_type": "code",
   "execution_count": 73,
   "id": "80cf8cfc",
   "metadata": {},
   "outputs": [
    {
     "name": "stdout",
     "output_type": "stream",
     "text": [
      "0\n",
      "1\n",
      "2\n",
      "3\n",
      "4\n",
      "5\n",
      "sheila ki jawani\n"
     ]
    }
   ],
   "source": [
    "for x in range(6) :\n",
    "    print(x)\n",
    "else :\n",
    "    print(\"sheila ki jawani\")"
   ]
  },
  {
   "cell_type": "code",
   "execution_count": 3,
   "id": "0749319b",
   "metadata": {},
   "outputs": [
    {
     "name": "stdout",
     "output_type": "stream",
     "text": [
      "red white\n",
      "red black\n",
      "red gray\n",
      "blue white\n",
      "blue black\n",
      "blue gray\n",
      "green white\n",
      "green black\n",
      "green gray\n",
      "purple white\n",
      "purple black\n",
      "purple gray\n"
     ]
    }
   ],
   "source": [
    "dj = [\"red\", \"blue\",\"green\", \"purple\"]\n",
    "hraj = [\"white\", \"black\", \"gray\"]\n",
    "\n",
    "for x in dj:\n",
    "    for y in hraj:\n",
    "        print(x, y)"
   ]
  }
 ],
 "metadata": {
  "kernelspec": {
   "display_name": "Python 3",
   "language": "python",
   "name": "python3"
  },
  "language_info": {
   "codemirror_mode": {
    "name": "ipython",
    "version": 3
   },
   "file_extension": ".py",
   "mimetype": "text/x-python",
   "name": "python",
   "nbconvert_exporter": "python",
   "pygments_lexer": "ipython3",
   "version": "3.11.9"
  }
 },
 "nbformat": 4,
 "nbformat_minor": 5
}
