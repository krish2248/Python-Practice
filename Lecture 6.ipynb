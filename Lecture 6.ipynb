{
 "cells": [
  {
   "cell_type": "code",
   "execution_count": null,
   "id": "f2dd8498",
   "metadata": {},
   "outputs": [
    {
     "name": "stdout",
     "output_type": "stream",
     "text": [
      "yes model is in dict dictionary\n"
     ]
    }
   ],
   "source": [
    "# Dictionary\n",
    "dict = {\n",
    "    \"brand\" : \"hello\",\n",
    "    \"model\" : \"world\",\n",
    "    \"year\"  : \"2000\",\n",
    "    }\n",
    "\n",
    "if \"model\" in dict:\n",
    "    print(\"yes model is in dict dictionary\")"
   ]
  },
  {
   "cell_type": "code",
   "execution_count": null,
   "id": "389b7b61",
   "metadata": {},
   "outputs": [
    {
     "name": "stdout",
     "output_type": "stream",
     "text": [
      "{'brand': 'hello', 'model': 'world'}\n",
      "{'brand': 'hello'}\n"
     ]
    }
   ],
   "source": [
    "#delete an item\n",
    "dict = {\n",
    "    \"brand\" : \"hello\",\n",
    "    \"model\" : \"world\",\n",
    "    \"year\"  : \"2000\",\n",
    "    }\n",
    "\n",
    "dict.popitem()\n",
    "\n",
    "print(dict)\n",
    "\n",
    "dict.popitem()\n",
    "\n",
    "print(dict)"
   ]
  },
  {
   "cell_type": "code",
   "execution_count": null,
   "id": "0d7e7b02",
   "metadata": {},
   "outputs": [
    {
     "name": "stdout",
     "output_type": "stream",
     "text": [
      "{}\n"
     ]
    }
   ],
   "source": [
    "#clear the dictionary\n",
    "dict = {\n",
    "    \"brand\" : \"hello\",\n",
    "    \"model\" : \"world\",\n",
    "    \"year\"  : \"2000\",\n",
    "    }\n",
    "\n",
    "dict.clear()\n",
    "print(dict)"
   ]
  },
  {
   "cell_type": "code",
   "execution_count": null,
   "id": "e79151b1",
   "metadata": {},
   "outputs": [
    {
     "name": "stdout",
     "output_type": "stream",
     "text": [
      "brand\n",
      "model\n",
      "year\n"
     ]
    }
   ],
   "source": [
    "#loop through a dictionary\n",
    "dict = {\n",
    "    \"brand\" : \"hello\",\n",
    "    \"model\" : \"world\",\n",
    "    \"year\"  : \"2000\",\n",
    "    }\n",
    "\n",
    "for x in dict:\n",
    "    print(x)"
   ]
  },
  {
   "cell_type": "code",
   "execution_count": null,
   "id": "dfba8c5a",
   "metadata": {},
   "outputs": [
    {
     "name": "stdout",
     "output_type": "stream",
     "text": [
      "hello\n",
      "world\n",
      "2000\n"
     ]
    }
   ],
   "source": [
    "#loop through a dictionary\n",
    "dict = {\n",
    "    \"brand\" : \"hello\",\n",
    "    \"model\" : \"world\",\n",
    "    \"year\"  : \"2000\",\n",
    "    }\n",
    "\n",
    "for x in dict:\n",
    "    print(dict[x])"
   ]
  },
  {
   "cell_type": "code",
   "execution_count": null,
   "id": "33ec8212",
   "metadata": {},
   "outputs": [
    {
     "name": "stdout",
     "output_type": "stream",
     "text": [
      "hello\n",
      "world\n",
      "2000\n",
      "brand\n",
      "model\n",
      "year\n",
      "brand hello\n",
      "model world\n",
      "year 2000\n"
     ]
    }
   ],
   "source": [
    "#loop through a dictionary\n",
    "dict = {\n",
    "    \"brand\" : \"hello\",\n",
    "    \"model\" : \"world\",\n",
    "    \"year\"  : \"2000\",\n",
    "    }\n",
    "\n",
    "for x in dict.values():\n",
    "    print(x)\n",
    "\n",
    "for x in dict.keys():\n",
    "    print(x)\n",
    "\n",
    "for x, y in dict.items():\n",
    "    print(x,y)"
   ]
  },
  {
   "cell_type": "code",
   "execution_count": null,
   "id": "5cda8d6b",
   "metadata": {},
   "outputs": [
    {
     "name": "stdout",
     "output_type": "stream",
     "text": [
      "{'brand': 'hello', 'model': 'world', 'year': '2000'}\n"
     ]
    }
   ],
   "source": [
    "#copy a dictionary\n",
    "diction = {\n",
    "    \"brand\" : \"hello\",\n",
    "    \"model\" : \"world\",\n",
    "    \"year\"  : \"2000\",\n",
    "    }\n",
    "\n",
    "mydict = dict(diction)\n",
    "\n",
    "print(mydict)"
   ]
  },
  {
   "cell_type": "code",
   "execution_count": null,
   "id": "e7ed19e6",
   "metadata": {},
   "outputs": [
    {
     "name": "stdout",
     "output_type": "stream",
     "text": [
      "{'brand': 'hello', 'model': 'world', 'year': '2000'}\n"
     ]
    }
   ],
   "source": [
    "#copy a dictionary\n",
    "dict = {\n",
    "    \"brand\" : \"hello\",\n",
    "    \"model\" : \"world\",\n",
    "    \"year\"  : \"2000\",\n",
    "    }\n",
    "\n",
    "mydict = dict.copy()\n",
    "\n",
    "print(mydict)"
   ]
  },
  {
   "cell_type": "code",
   "execution_count": null,
   "id": "e0bea0eb",
   "metadata": {},
   "outputs": [
    {
     "name": "stdout",
     "output_type": "stream",
     "text": [
      "priyraj\n"
     ]
    }
   ],
   "source": [
    "#Create a nested dictionary that contain three dictionaries:\n",
    "myfamily = {\n",
    "    \"child1\" : {\n",
    "        \"name\" : \"krish\",\n",
    "        \"year\" : 2023\n",
    "    },\n",
    "\n",
    "    \"child2\" : {\n",
    "        \"name\" : \"priyraj\",\n",
    "        \"year\" : 2014\n",
    "    },\n",
    "\n",
    "    \"child3\" : {\n",
    "        \"name\" : \"dj\", \n",
    "        \"year\" : 2013\n",
    "    }\n",
    "}\n",
    "\n",
    "\n",
    "print(myfamily[\"child2\"][\"name\"])\n"
   ]
  },
  {
   "cell_type": "code",
   "execution_count": null,
   "id": "422d5268",
   "metadata": {},
   "outputs": [
    {
     "name": "stdout",
     "output_type": "stream",
     "text": [
      "2006\n"
     ]
    }
   ],
   "source": [
    "#add three dictionaries into a new dictionary:\n",
    "child1 = {\n",
    "    \"name\" : \"himaditya\",\n",
    "    \"year\" : 2002\n",
    "},\n",
    "\n",
    "child2 = {\n",
    "    \"name\" : \"hraj\",\n",
    "    \"year\" : 2003\n",
    "},\n",
    "\n",
    "child3 = {\n",
    "    \"name\" : \"vd\",\n",
    "    \"year\" : 2006\n",
    "}\n",
    "\n",
    "myfamily = {\n",
    "    \"child1\" : child1,\n",
    "    \"child2\" : child2,\n",
    "    \"child3\" : child3\n",
    "}\n",
    "\n",
    "print(myfamily[\"child3\"][\"year\"])"
   ]
  },
  {
   "cell_type": "code",
   "execution_count": null,
   "id": "d0de49ec",
   "metadata": {},
   "outputs": [],
   "source": [
    "#functions\n",
    "def krish_soni(a):\n",
    "    print(a + 4j)\n"
   ]
  },
  {
   "cell_type": "code",
   "execution_count": null,
   "id": "5e49678c",
   "metadata": {},
   "outputs": [
    {
     "name": "stdout",
     "output_type": "stream",
     "text": [
      "(32+4j)\n"
     ]
    }
   ],
   "source": [
    "#function call\n",
    "a = 10\n",
    "b = 22\n",
    "\n",
    "krish_soni(a + b)\n"
   ]
  },
  {
   "cell_type": "code",
   "execution_count": 21,
   "id": "fbc16f40",
   "metadata": {},
   "outputs": [],
   "source": [
    "#dublicate remover\n",
    "def dub_remov(a = a + 2):\n",
    "    print(a + 4)"
   ]
  }
 ],
 "metadata": {
  "kernelspec": {
   "display_name": "Python 3",
   "language": "python",
   "name": "python3"
  },
  "language_info": {
   "codemirror_mode": {
    "name": "ipython",
    "version": 3
   },
   "file_extension": ".py",
   "mimetype": "text/x-python",
   "name": "python",
   "nbconvert_exporter": "python",
   "pygments_lexer": "ipython3",
   "version": "3.11.9"
  }
 },
 "nbformat": 4,
 "nbformat_minor": 5
}
