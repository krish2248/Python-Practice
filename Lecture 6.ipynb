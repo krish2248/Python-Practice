{
 "cells": [
  {
   "cell_type": "code",
   "execution_count": 1,
   "id": "f2dd8498",
   "metadata": {},
   "outputs": [
    {
     "name": "stdout",
     "output_type": "stream",
     "text": [
      "yes model is in dict dictionary\n"
     ]
    }
   ],
   "source": [
    "dict = {\n",
    "    \"brand\" : \"hello\",\n",
    "    \"model\" : \"world\",\n",
    "    \"year\"  : \"2000\",\n",
    "    }\n",
    "\n",
    "if \"model\" in dict:\n",
    "    print(\"yes model is in dict dictionary\")"
   ]
  },
  {
   "cell_type": "code",
   "execution_count": 4,
   "id": "389b7b61",
   "metadata": {},
   "outputs": [
    {
     "name": "stdout",
     "output_type": "stream",
     "text": [
      "{'brand': 'hello', 'model': 'world'}\n",
      "{'brand': 'hello'}\n"
     ]
    }
   ],
   "source": [
    "dict = {\n",
    "    \"brand\" : \"hello\",\n",
    "    \"model\" : \"world\",\n",
    "    \"year\"  : \"2000\",\n",
    "    }\n",
    "\n",
    "dict.popitem()\n",
    "\n",
    "print(dict)\n",
    "\n",
    "dict.popitem()\n",
    "\n",
    "print(dict)"
   ]
  },
  {
   "cell_type": "code",
   "execution_count": 6,
   "id": "0d7e7b02",
   "metadata": {},
   "outputs": [
    {
     "name": "stdout",
     "output_type": "stream",
     "text": [
      "{}\n"
     ]
    }
   ],
   "source": [
    "dict = {\n",
    "    \"brand\" : \"hello\",\n",
    "    \"model\" : \"world\",\n",
    "    \"year\"  : \"2000\",\n",
    "    }\n",
    "\n",
    "dict.clear()\n",
    "print(dict)"
   ]
  },
  {
   "cell_type": "code",
   "execution_count": 8,
   "id": "e79151b1",
   "metadata": {},
   "outputs": [
    {
     "name": "stdout",
     "output_type": "stream",
     "text": [
      "brand\n",
      "model\n",
      "year\n"
     ]
    }
   ],
   "source": [
    "dict = {\n",
    "    \"brand\" : \"hello\",\n",
    "    \"model\" : \"world\",\n",
    "    \"year\"  : \"2000\",\n",
    "    }\n",
    "\n",
    "for x in dict:\n",
    "    print(x)"
   ]
  },
  {
   "cell_type": "code",
   "execution_count": 10,
   "id": "dfba8c5a",
   "metadata": {},
   "outputs": [
    {
     "name": "stdout",
     "output_type": "stream",
     "text": [
      "hello\n",
      "world\n",
      "2000\n"
     ]
    }
   ],
   "source": [
    "dict = {\n",
    "    \"brand\" : \"hello\",\n",
    "    \"model\" : \"world\",\n",
    "    \"year\"  : \"2000\",\n",
    "    }\n",
    "\n",
    "for x in dict:\n",
    "    print(dict[x])"
   ]
  },
  {
   "cell_type": "code",
   "execution_count": 17,
   "id": "33ec8212",
   "metadata": {},
   "outputs": [
    {
     "name": "stdout",
     "output_type": "stream",
     "text": [
      "hello\n",
      "world\n",
      "2000\n",
      "brand\n",
      "model\n",
      "year\n",
      "brand hello\n",
      "model world\n",
      "year 2000\n"
     ]
    }
   ],
   "source": [
    "dict = {\n",
    "    \"brand\" : \"hello\",\n",
    "    \"model\" : \"world\",\n",
    "    \"year\"  : \"2000\",\n",
    "    }\n",
    "\n",
    "for x in dict.values():\n",
    "    print(x)\n",
    "\n",
    "for x in dict.keys():\n",
    "    print(x)\n",
    "\n",
    "for x, y in dict.items():\n",
    "    print(x,y)"
   ]
  },
  {
   "cell_type": "code",
   "execution_count": 1,
   "id": "5cda8d6b",
   "metadata": {},
   "outputs": [
    {
     "name": "stdout",
     "output_type": "stream",
     "text": [
      "{'brand': 'hello', 'model': 'world', 'year': '2000'}\n"
     ]
    }
   ],
   "source": [
    "diction = {\n",
    "    \"brand\" : \"hello\",\n",
    "    \"model\" : \"world\",\n",
    "    \"year\"  : \"2000\",\n",
    "    }\n",
    "\n",
    "mydict = dict(diction)\n",
    "\n",
    "print(mydict)"
   ]
  },
  {
   "cell_type": "code",
   "execution_count": 5,
   "id": "e7ed19e6",
   "metadata": {},
   "outputs": [
    {
     "name": "stdout",
     "output_type": "stream",
     "text": [
      "{'brand': 'hello', 'model': 'world', 'year': '2000'}\n"
     ]
    }
   ],
   "source": [
    "dict = {\n",
    "    \"brand\" : \"hello\",\n",
    "    \"model\" : \"world\",\n",
    "    \"year\"  : \"2000\",\n",
    "    }\n",
    "\n",
    "mydict = dict.copy()\n",
    "\n",
    "print(mydict)"
   ]
  },
  {
   "cell_type": "code",
   "execution_count": 2,
   "id": "e0bea0eb",
   "metadata": {},
   "outputs": [
    {
     "ename": "TypeError",
     "evalue": "tuple indices must be integers or slices, not str",
     "output_type": "error",
     "traceback": [
      "\u001b[31m---------------------------------------------------------------------------\u001b[39m",
      "\u001b[31mTypeError\u001b[39m                                 Traceback (most recent call last)",
      "\u001b[36mCell\u001b[39m\u001b[36m \u001b[39m\u001b[32mIn[2]\u001b[39m\u001b[32m, line 40\u001b[39m\n\u001b[32m     28\u001b[39m child3 = {\n\u001b[32m     29\u001b[39m     \u001b[33m\"\u001b[39m\u001b[33mname\u001b[39m\u001b[33m\"\u001b[39m : \u001b[33m\"\u001b[39m\u001b[33mvd\u001b[39m\u001b[33m\"\u001b[39m,\n\u001b[32m     30\u001b[39m     \u001b[33m\"\u001b[39m\u001b[33myear\u001b[39m\u001b[33m\"\u001b[39m : \u001b[32m2006\u001b[39m\n\u001b[32m     31\u001b[39m }\n\u001b[32m     33\u001b[39m myfamily = {\n\u001b[32m     34\u001b[39m     \u001b[33m\"\u001b[39m\u001b[33mchild1\u001b[39m\u001b[33m\"\u001b[39m : child1,\n\u001b[32m     35\u001b[39m     \u001b[33m\"\u001b[39m\u001b[33mchild2\u001b[39m\u001b[33m\"\u001b[39m : child2,\n\u001b[32m     36\u001b[39m     \u001b[33m\"\u001b[39m\u001b[33mchild3\u001b[39m\u001b[33m\"\u001b[39m : child3\n\u001b[32m     37\u001b[39m \n\u001b[32m     38\u001b[39m }\n\u001b[32m---> \u001b[39m\u001b[32m40\u001b[39m \u001b[38;5;28mprint\u001b[39m(\u001b[43mmyfamily\u001b[49m\u001b[43m[\u001b[49m\u001b[33;43m\"\u001b[39;49m\u001b[33;43mchild2\u001b[39;49m\u001b[33;43m\"\u001b[39;49m\u001b[43m]\u001b[49m\u001b[43m[\u001b[49m\u001b[33;43m\"\u001b[39;49m\u001b[33;43mname\u001b[39;49m\u001b[33;43m\"\u001b[39;49m\u001b[43m]\u001b[49m)\n",
      "\u001b[31mTypeError\u001b[39m: tuple indices must be integers or slices, not str"
     ]
    }
   ],
   "source": [
    "myfamily = {\n",
    "    \"child1\" : {\n",
    "        \"name\" : \"krish\",\n",
    "        \"year\" : 2023\n",
    "    },\n",
    "\n",
    "    \"child2\" : {\n",
    "        \"name\" : \"priyraj\",\n",
    "        \"year\" : 2014\n",
    "    },\n",
    "\n",
    "    \"child3\" : {\n",
    "        \"name\" : \"dj\", \n",
    "        \"year\" : 2013\n",
    "    }\n",
    "}\n",
    "\n",
    "child1 = {\n",
    "    \"name\" : \"himaditya\",\n",
    "    \"year\" : 2002\n",
    "},\n",
    "\n",
    "child2 = {\n",
    "    \"name\" : \"hraj\",\n",
    "    \"year\" : 2003\n",
    "},\n",
    "\n",
    "child3 = {\n",
    "    \"name\" : \"vd\",\n",
    "    \"year\" : 2006\n",
    "}\n",
    "\n",
    "myfamily = {\n",
    "    \"child1\" : child1,\n",
    "    \"child2\" : child2,\n",
    "    \"child3\" : child3\n",
    "\n",
    "}\n",
    "\n",
    "print(myfamily[\"child2\"][\"name\"])\n"
   ]
  },
  {
   "cell_type": "code",
   "execution_count": 14,
   "id": "d0de49ec",
   "metadata": {},
   "outputs": [],
   "source": [
    "def krish_soni(a):\n",
    "    print(a + 4j)\n"
   ]
  },
  {
   "cell_type": "code",
   "execution_count": 17,
   "id": "5e49678c",
   "metadata": {},
   "outputs": [
    {
     "name": "stdout",
     "output_type": "stream",
     "text": [
      "(32+4j)\n"
     ]
    }
   ],
   "source": [
    "a = 10\n",
    "b = 22\n",
    "\n",
    "krish_soni(a + b)\n"
   ]
  },
  {
   "cell_type": "code",
   "execution_count": 21,
   "id": "fbc16f40",
   "metadata": {},
   "outputs": [],
   "source": [
    "#dublicate remover\n",
    "def dub_remov(a = a + 2):\n",
    "    print(a + 4)"
   ]
  }
 ],
 "metadata": {
  "kernelspec": {
   "display_name": "Python 3",
   "language": "python",
   "name": "python3"
  },
  "language_info": {
   "codemirror_mode": {
    "name": "ipython",
    "version": 3
   },
   "file_extension": ".py",
   "mimetype": "text/x-python",
   "name": "python",
   "nbconvert_exporter": "python",
   "pygments_lexer": "ipython3",
   "version": "3.11.9"
  }
 },
 "nbformat": 4,
 "nbformat_minor": 5
}
