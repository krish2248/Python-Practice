{
 "cells": [
  {
   "cell_type": "code",
   "execution_count": 1,
   "id": "8daa942b",
   "metadata": {},
   "outputs": [
    {
     "name": "stdout",
     "output_type": "stream",
     "text": [
      "hello world\n"
     ]
    }
   ],
   "source": [
    "# 1. Write a single-line comment and print 'Hello World'.\n",
    "print(\"hello world\")"
   ]
  },
  {
   "cell_type": "code",
   "execution_count": 3,
   "id": "89a1b769",
   "metadata": {},
   "outputs": [
    {
     "name": "stdout",
     "output_type": "stream",
     "text": [
      "hello world\n"
     ]
    }
   ],
   "source": [
    "#2.\tUse an inline comment in a print statement.\n",
    "print(\"hello world\")"
   ]
  },
  {
   "cell_type": "code",
   "execution_count": null,
   "id": "b1b50e2c",
   "metadata": {},
   "outputs": [],
   "source": [
    "#3.\tWrite a multiline comment using #.\n",
    "#This is a multiline comment\n",
    "#that spans multiple lines.\n",
    "#It provides detailed explanations    "
   ]
  },
  {
   "cell_type": "code",
   "execution_count": 8,
   "id": "68b0be64",
   "metadata": {},
   "outputs": [
    {
     "data": {
      "text/plain": [
       "'hello kitty'"
      ]
     },
     "execution_count": 8,
     "metadata": {},
     "output_type": "execute_result"
    }
   ],
   "source": [
    "#4.\tWrite a multiline comment using triple quotes \"\"\".\n",
    "\"\"\"hello kitty\"\"\""
   ]
  },
  {
   "cell_type": "code",
   "execution_count": 10,
   "id": "99bab441",
   "metadata": {},
   "outputs": [
    {
     "name": "stdout",
     "output_type": "stream",
     "text": [
      "10 20 30\n"
     ]
    }
   ],
   "source": [
    "#Create 3 valid variable names and print them.\n",
    "a = 10\n",
    "b = 20\n",
    "c = 30\n",
    "print(a, b, c)"
   ]
  },
  {
   "cell_type": "code",
   "execution_count": 11,
   "id": "6f32fd51",
   "metadata": {},
   "outputs": [
    {
     "ename": "SyntaxError",
     "evalue": "invalid decimal literal (2123179940.py, line 2)",
     "output_type": "error",
     "traceback": [
      "  \u001b[36mCell\u001b[39m\u001b[36m \u001b[39m\u001b[32mIn[11]\u001b[39m\u001b[32m, line 2\u001b[39m\n\u001b[31m    \u001b[39m\u001b[31ma = 1asf\u001b[39m\n        ^\n\u001b[31mSyntaxError\u001b[39m\u001b[31m:\u001b[39m invalid decimal literal\n"
     ]
    }
   ],
   "source": [
    "#6.\tShow an invalid variable name and explain why\n",
    "a = 1asf\n",
    "print (\"a\")"
   ]
  },
  {
   "cell_type": "code",
   "execution_count": 12,
   "id": "f1e5ca2c",
   "metadata": {},
   "outputs": [
    {
     "name": "stdout",
     "output_type": "stream",
     "text": [
      "5 10 15\n"
     ]
    }
   ],
   "source": [
    "#7.\tAssign values to multiple variables in one line and print them\n",
    "x, y, z = 5, 10, 15\n",
    "print(x, y, z)"
   ]
  },
  {
   "cell_type": "code",
   "execution_count": 13,
   "id": "218980f7",
   "metadata": {},
   "outputs": [
    {
     "name": "stdout",
     "output_type": "stream",
     "text": [
      "42 42 42\n"
     ]
    }
   ],
   "source": [
    "#8.\tAssign one value to multiple variables and print them\n",
    "x = y = z = 42\n",
    "print(x, y, z)"
   ]
  },
  {
   "cell_type": "code",
   "execution_count": 17,
   "id": "88737c55",
   "metadata": {},
   "outputs": [
    {
     "name": "stdout",
     "output_type": "stream",
     "text": [
      "<class 'int'> <class 'float'> <class 'complex'>\n"
     ]
    }
   ],
   "source": [
    "#9.\tCreate variables of type int, float, complex and print their types.\n",
    "a = 5\n",
    "b = 3.14\n",
    "c = 2 + 3j\n",
    "print(type(a), type(b), type(c))"
   ]
  },
  {
   "cell_type": "code",
   "execution_count": 82,
   "id": "bfe79e65",
   "metadata": {},
   "outputs": [
    {
     "name": "stdout",
     "output_type": "stream",
     "text": [
      "4\n",
      "8.33\n"
     ]
    }
   ],
   "source": [
    "# 10.Show reassignment of a variable with a new type.\n",
    "\n",
    "var1 = 4\n",
    "var2 = 8.33\n",
    "print(var1)\n",
    "var1 = var2\n",
    "print(var1)"
   ]
  },
  {
   "cell_type": "code",
   "execution_count": null,
   "id": "5464a7b0",
   "metadata": {},
   "outputs": [
    {
     "data": {
      "text/plain": [
       "'HELLO'"
      ]
     },
     "execution_count": 28,
     "metadata": {},
     "output_type": "execute_result"
    }
   ],
   "source": [
    "#11. Declare a string and convert it to uppercase.\n",
    "string = \"hello\"\n",
    "string.upper()"
   ]
  },
  {
   "cell_type": "code",
   "execution_count": null,
   "id": "901ef18c",
   "metadata": {},
   "outputs": [
    {
     "data": {
      "text/plain": [
       "'hello'"
      ]
     },
     "execution_count": 29,
     "metadata": {},
     "output_type": "execute_result"
    }
   ],
   "source": [
    "#12. Convert a string to lowercase.\n",
    "string = \"HELLO\"\n",
    "string.lower()"
   ]
  },
  {
   "cell_type": "code",
   "execution_count": 30,
   "id": "2378fbe5",
   "metadata": {},
   "outputs": [
    {
     "data": {
      "text/plain": [
       "'hi, mr krish'"
      ]
     },
     "execution_count": 30,
     "metadata": {},
     "output_type": "execute_result"
    }
   ],
   "source": [
    "#13. Remove spaces from the beginning and end of a string using strip().\n",
    "string = \"              hi, mr krish          \"\n",
    "string.strip()"
   ]
  },
  {
   "cell_type": "code",
   "execution_count": 35,
   "id": "6ab5f921",
   "metadata": {},
   "outputs": [
    {
     "name": "stdout",
     "output_type": "stream",
     "text": [
      "Java\n"
     ]
    }
   ],
   "source": [
    "#14. Replace 'Python' with 'Java' in a string.\n",
    "string = \"Python\"\n",
    "new_string = string.replace(\"Python\",\"Java\")\n",
    "\n",
    "print(f\"{new_string}\")"
   ]
  },
  {
   "cell_type": "code",
   "execution_count": null,
   "id": "ec037cbd",
   "metadata": {},
   "outputs": [
    {
     "name": "stdout",
     "output_type": "stream",
     "text": [
      "krish\tSoni\n"
     ]
    }
   ],
   "source": [
    "#15. Concatenate two strings with +.\n",
    "a = \"krish\"\n",
    "b = \"Soni\"\n",
    "\n",
    "add = a + b\n",
    "\n",
    "print(f\"{add}\")"
   ]
  },
  {
   "cell_type": "code",
   "execution_count": 47,
   "id": "3227bcfd",
   "metadata": {},
   "outputs": [
    {
     "name": "stdout",
     "output_type": "stream",
     "text": [
      "krish\tSoni\n"
     ]
    }
   ],
   "source": [
    "#16. Concatenate two strings with a space in between.\n",
    "a = \"krish\\t\"\n",
    "b = \"Soni\"\n",
    "\n",
    "add = a + b\n",
    "\n",
    "print(f\"{add}\")"
   ]
  },
  {
   "cell_type": "code",
   "execution_count": 51,
   "id": "acbac6ef",
   "metadata": {},
   "outputs": [
    {
     "name": "stdout",
     "output_type": "stream",
     "text": [
      "Hi, i m Krish and i m 22 years old\n"
     ]
    }
   ],
   "source": [
    "#17.Format a string using f-strings (showing age).\n",
    "age = 22\n",
    "print(f\"Hi, i m Krish and i m {age} years old\")"
   ]
  },
  {
   "cell_type": "code",
   "execution_count": 59,
   "id": "4df7cb1d",
   "metadata": {},
   "outputs": [
    {
     "name": "stdout",
     "output_type": "stream",
     "text": [
      "20.22\n"
     ]
    }
   ],
   "source": [
    "#18.Format a string with a decimal using :.2f.\n",
    "krish = 20.2222\n",
    "print(f\"{krish:.2f}\")\n"
   ]
  },
  {
   "cell_type": "code",
   "execution_count": 60,
   "id": "d83bb582",
   "metadata": {},
   "outputs": [
    {
     "name": "stdout",
     "output_type": "stream",
     "text": [
      "hello \n",
      " this is a new line\n"
     ]
    }
   ],
   "source": [
    "#19. Demonstrate \\n (newline) in a string.\n",
    "print(\"hello \\n this is a new line\")"
   ]
  },
  {
   "cell_type": "code",
   "execution_count": 64,
   "id": "d1172532",
   "metadata": {},
   "outputs": [
    {
     "name": "stdout",
     "output_type": "stream",
     "text": [
      "i\tm\twriting\tthis\twithout\tany\tspaces\n"
     ]
    }
   ],
   "source": [
    "#20. Demonstrate \\t (tab) in a string.\n",
    "print(\"i\\tm\\twriting\\tthis\\twithout\\tany\\tspaces\")"
   ]
  },
  {
   "cell_type": "code",
   "execution_count": 65,
   "id": "bdf6f48d",
   "metadata": {},
   "outputs": [
    {
     "name": "stdout",
     "output_type": "stream",
     "text": [
      "14.98\n"
     ]
    }
   ],
   "source": [
    "#21. Declare a float variable and print it.\n",
    "a = 14.98\n",
    "print(a)"
   ]
  },
  {
   "cell_type": "code",
   "execution_count": 66,
   "id": "7513ed72",
   "metadata": {},
   "outputs": [
    {
     "name": "stdout",
     "output_type": "stream",
     "text": [
      "59.0\n"
     ]
    }
   ],
   "source": [
    "#22. Perform addition of two floats.\n",
    "a = 14.98\n",
    "b = 44.02\n",
    "print(a + b)"
   ]
  },
  {
   "cell_type": "code",
   "execution_count": 67,
   "id": "21ca6ef1",
   "metadata": {},
   "outputs": [
    {
     "name": "stdout",
     "output_type": "stream",
     "text": [
      "59.54789999999999\n"
     ]
    }
   ],
   "source": [
    "#23. Multiply two floats (area of rectangle).\n",
    "L = 10.11\n",
    "B = 5.89\n",
    "\n",
    "area = L*B\n",
    "\n",
    "print (area)"
   ]
  },
  {
   "cell_type": "code",
   "execution_count": 69,
   "id": "1966bd0d",
   "metadata": {},
   "outputs": [
    {
     "name": "stdout",
     "output_type": "stream",
     "text": [
      "2.2\n"
     ]
    }
   ],
   "source": [
    "#24. Divide two floats and show result.\n",
    "a = 5.5\n",
    "b = 2.5\n",
    "\n",
    "print (a / b)"
   ]
  },
  {
   "cell_type": "code",
   "execution_count": 84,
   "id": "48617f6f",
   "metadata": {},
   "outputs": [
    {
     "name": "stdout",
     "output_type": "stream",
     "text": [
      "125\n"
     ]
    }
   ],
   "source": [
    "#25.Calculate power using floats.\n",
    "\n",
    "a = 5**3\n",
    "\n",
    "print(a)\n"
   ]
  },
  {
   "cell_type": "code",
   "execution_count": 70,
   "id": "13450e70",
   "metadata": {},
   "outputs": [
    {
     "name": "stdout",
     "output_type": "stream",
     "text": [
      "11.0\n"
     ]
    }
   ],
   "source": [
    "#26.Multiply integer with float.\n",
    "a = 5\n",
    "b = 2.2\n",
    "\n",
    "print (a*b)"
   ]
  },
  {
   "cell_type": "code",
   "execution_count": 73,
   "id": "92f03c5b",
   "metadata": {},
   "outputs": [
    {
     "name": "stdout",
     "output_type": "stream",
     "text": [
      "round off value is 14.89\n"
     ]
    }
   ],
   "source": [
    "#27. Round a float to 2 decimal places.\n",
    "a = 14.88827632\n",
    "print (f\"round off value is {a:.2f}\")"
   ]
  },
  {
   "cell_type": "code",
   "execution_count": 87,
   "id": "e5928355",
   "metadata": {},
   "outputs": [
    {
     "name": "stdout",
     "output_type": "stream",
     "text": [
      "5\n"
     ]
    }
   ],
   "source": [
    "#28. Convert a float to an integer.\n",
    "\n",
    "a = 5.6\n",
    "b = a\n",
    "\n",
    "print(int(a))\n"
   ]
  },
  {
   "cell_type": "code",
   "execution_count": 79,
   "id": "124a72be",
   "metadata": {},
   "outputs": [
    {
     "name": "stdout",
     "output_type": "stream",
     "text": [
      "-231.1231\n"
     ]
    }
   ],
   "source": [
    "#29. Print a negative float value.\n",
    "a = -231.1231\n",
    "\n",
    "print(a) "
   ]
  },
  {
   "cell_type": "code",
   "execution_count": 1,
   "id": "b9b0738c",
   "metadata": {},
   "outputs": [
    {
     "name": "stdout",
     "output_type": "stream",
     "text": [
      "[274.83099999999996]\n"
     ]
    }
   ],
   "source": [
    "#30. Store multiple floats in a list and print their sum.\n",
    "a = 10.123\n",
    "b = 135.131\n",
    "c = 123.867\n",
    "d = 5.71\n",
    "\n",
    "list = [a + b + c +d]\n",
    "print (list)"
   ]
  },
  {
   "cell_type": "code",
   "execution_count": 2,
   "id": "889b3808",
   "metadata": {},
   "outputs": [
    {
     "name": "stdout",
     "output_type": "stream",
     "text": [
      "8\n"
     ]
    }
   ],
   "source": [
    "#31. Take two integers as input and print their sum.\n",
    "\n",
    "a = int(input(\"Enter First number : \"))\n",
    "b = int(input(\"Enter second number : \"))\n",
    "\n",
    "print (a + b)"
   ]
  },
  {
   "cell_type": "code",
   "execution_count": 4,
   "id": "6b900439",
   "metadata": {},
   "outputs": [
    {
     "name": "stdout",
     "output_type": "stream",
     "text": [
      "(6+15j)\n"
     ]
    }
   ],
   "source": [
    "#32. Take two complex numbers and print their sum.\n",
    "\n",
    "a = 4 + 6j\n",
    "b = 2 + 9j\n",
    "\n",
    "print (a + b)"
   ]
  },
  {
   "cell_type": "code",
   "execution_count": 6,
   "id": "826ed357",
   "metadata": {},
   "outputs": [
    {
     "name": "stdout",
     "output_type": "stream",
     "text": [
      "The value is positive False\n"
     ]
    }
   ],
   "source": [
    "#33. Check if a user-entered number is positive.\n",
    "\n",
    "a = float(input(\"Enter value\"))\n",
    "\n",
    "print(f\"The value is positive {a > 0}\")"
   ]
  },
  {
   "cell_type": "code",
   "execution_count": 13,
   "id": "a40c830f",
   "metadata": {},
   "outputs": [
    {
     "name": "stdout",
     "output_type": "stream",
     "text": [
      "the entered number is even True\n"
     ]
    }
   ],
   "source": [
    "#34. Check if a user-entered number is even.\n",
    "\n",
    "a = float(input(\"Enter a number\"))\n",
    "\n",
    "print(f\"the entered number is even {a % 2 == 0}\")"
   ]
  },
  {
   "cell_type": "code",
   "execution_count": 20,
   "id": "e64bba05",
   "metadata": {},
   "outputs": [
    {
     "name": "stdout",
     "output_type": "stream",
     "text": [
      "the entered number is divisible by 5 False\n"
     ]
    }
   ],
   "source": [
    "#35. Check if a user-entered number is divisible by 5.\n",
    "\n",
    "a = float(input(\"Enter a number\"))\n",
    "\n",
    "print(f\"the entered number is divisible by 5 {a % 5 == 0}\")"
   ]
  },
  {
   "cell_type": "code",
   "execution_count": 23,
   "id": "dff61398",
   "metadata": {},
   "outputs": [
    {
     "name": "stdout",
     "output_type": "stream",
     "text": [
      "the entered numbers are equal True\n"
     ]
    }
   ],
   "source": [
    "#36. Check if two user-entered numbers are equal.\n",
    "\n",
    "a = float(input(\"Enter frist number\"))\n",
    "b = float(input(\"Enter second number\"))\n",
    "\n",
    "print (f\"the entered numbers are equal {a == b}\")"
   ]
  },
  {
   "cell_type": "code",
   "execution_count": 24,
   "id": "5ef2af56",
   "metadata": {},
   "outputs": [
    {
     "name": "stdout",
     "output_type": "stream",
     "text": [
      "entered value is an alphabets True\n"
     ]
    }
   ],
   "source": [
    "#37. Check if a string contains only alphabets (isalpha()).\n",
    "\n",
    "a = \"krish\"\n",
    "\n",
    "print(f\"entered value is an alphabets {a.isalpha()}\")"
   ]
  },
  {
   "cell_type": "code",
   "execution_count": 28,
   "id": "e90539f4",
   "metadata": {},
   "outputs": [
    {
     "name": "stdout",
     "output_type": "stream",
     "text": [
      "entered string is palindrome True\n"
     ]
    }
   ],
   "source": [
    "#38. Check if a string is a palindrome.\n",
    "\n",
    "a = \"mom\"\n",
    "print(f\"entered string is palindrome {a == a [::-1]}\")"
   ]
  },
  {
   "cell_type": "code",
   "execution_count": 30,
   "id": "65db9f40",
   "metadata": {},
   "outputs": [
    {
     "name": "stdout",
     "output_type": "stream",
     "text": [
      "frist number is higher than the second number True\n"
     ]
    }
   ],
   "source": [
    "#39. Check if a number is greater than another number.\n",
    "\n",
    "a = 7\n",
    "b = 2\n",
    "\n",
    "print(f\"frist number is higher than the second number {a > b}\")"
   ]
  },
  {
   "cell_type": "code",
   "execution_count": 32,
   "id": "d6d1fd47",
   "metadata": {},
   "outputs": [
    {
     "name": "stdout",
     "output_type": "stream",
     "text": [
      "entered number lies between 1 and 10 True\n"
     ]
    }
   ],
   "source": [
    "#40. Check if a number lies between 1 and 10.\n",
    "\n",
    "a = 8\n",
    "\n",
    "print(f\"entered number lies between 1 and 10 { 1 < a < 10}\")"
   ]
  },
  {
   "cell_type": "code",
   "execution_count": 2,
   "id": "88222947",
   "metadata": {},
   "outputs": [
    {
     "name": "stdout",
     "output_type": "stream",
     "text": [
      "['banana', 'apple', 'orange']\n"
     ]
    }
   ],
   "source": [
    "#41. Create a list of 3 fruits and print it.\n",
    "\n",
    "list = [\"banana\", \"apple\", \"orange\"]\n",
    "\n",
    "print(list)"
   ]
  },
  {
   "cell_type": "code",
   "execution_count": 35,
   "id": "daf36b91",
   "metadata": {},
   "outputs": [
    {
     "name": "stdout",
     "output_type": "stream",
     "text": [
      "['banana', 'apple', 'orange', 'banana', 'apple', 'orange']\n"
     ]
    }
   ],
   "source": [
    "#42. Create a list with duplicate values and print it.\n",
    "\n",
    "list = [\"banana\", \"apple\", \"orange\",\"banana\", \"apple\", \"orange\"]\n",
    "print(list)"
   ]
  },
  {
   "cell_type": "code",
   "execution_count": 38,
   "id": "f8b95757",
   "metadata": {},
   "outputs": [
    {
     "data": {
      "text/plain": [
       "6"
      ]
     },
     "execution_count": 38,
     "metadata": {},
     "output_type": "execute_result"
    }
   ],
   "source": [
    "#43. Find the length of a list using len().\n",
    "\n",
    "list = [\"banana\", \"apple\", \"orange\",\"banana\", \"apple\", \"orange\"]\n",
    "\n",
    "len(list)"
   ]
  },
  {
   "cell_type": "code",
   "execution_count": 41,
   "id": "28e74f6e",
   "metadata": {},
   "outputs": [
    {
     "name": "stdout",
     "output_type": "stream",
     "text": [
      "['2', '2.2', 'krish', '@krish']\n"
     ]
    }
   ],
   "source": [
    "#44. Create a mixed data type list and print it.\n",
    "\n",
    "list = [\"2\", \"2.2\", \"krish\", \"@krish\"]\n",
    "print(list)"
   ]
  },
  {
   "cell_type": "code",
   "execution_count": 45,
   "id": "c2b74718",
   "metadata": {},
   "outputs": [
    {
     "name": "stdout",
     "output_type": "stream",
     "text": [
      "2.2\n"
     ]
    }
   ],
   "source": [
    "#45.Access the second element of a list.\n",
    "\n",
    "list = [\"2\", \"2.2\", \"krish\", \"@krish\"]\n",
    "\n",
    "print(list[1])"
   ]
  },
  {
   "cell_type": "code",
   "execution_count": 47,
   "id": "9c524fd0",
   "metadata": {},
   "outputs": [
    {
     "name": "stdout",
     "output_type": "stream",
     "text": [
      "apple\n"
     ]
    }
   ],
   "source": [
    "#46. Access the last element of a list using negative index.\n",
    "\n",
    "list = [\"2\", \"2.2\", \"krish\", \"@krish\",\"2\", \"2.2\", \"krish\", \"apple\"]\n",
    "\n",
    "print(list[-1])"
   ]
  },
  {
   "cell_type": "code",
   "execution_count": 48,
   "id": "be99f1ce",
   "metadata": {},
   "outputs": [
    {
     "name": "stdout",
     "output_type": "stream",
     "text": [
      "['krish', '@krish', '2']\n"
     ]
    }
   ],
   "source": [
    "#47. Print a sublist using slicing (2:5).\n",
    "\n",
    "list = [\"2\", \"2.2\", \"krish\", \"@krish\",\"2\", \"2.2\", \"krish\", \"apple\"]\n",
    "\n",
    "print(list[2:5])"
   ]
  },
  {
   "cell_type": "code",
   "execution_count": 49,
   "id": "59d19724",
   "metadata": {},
   "outputs": [
    {
     "name": "stdout",
     "output_type": "stream",
     "text": [
      "['krish', '@krish', '2', '2.2', 'krish', 'apple']\n"
     ]
    }
   ],
   "source": [
    "#48. Print all elements from index 2 to end.\n",
    "list = [\"2\", \"2.2\", \"krish\", \"@krish\",\"2\", \"2.2\", \"krish\", \"apple\"]\n",
    "\n",
    "print(list[2:])\n"
   ]
  },
  {
   "cell_type": "code",
   "execution_count": 76,
   "id": "92ea093e",
   "metadata": {},
   "outputs": [
    {
     "name": "stdout",
     "output_type": "stream",
     "text": [
      "yes apple exists in the list\n"
     ]
    }
   ],
   "source": [
    "#49. Check if 'apple' exists in a list.\n",
    "list = [\"2\", \"2.2\", \"krish\", \"@krish\",\"2\", \"2.2\", \"krish\", \"apple\"]\n",
    "\n",
    "if \"apple\" in list:\n",
    "    print(\"yes apple exists in the list\")\n",
    "else:\n",
    "    print(\"apple does not exists in the list\")"
   ]
  },
  {
   "cell_type": "code",
   "execution_count": 80,
   "id": "5d7b75c7",
   "metadata": {},
   "outputs": [
    {
     "name": "stdout",
     "output_type": "stream",
     "text": [
      "1\n",
      "2\n",
      "3\n",
      "4\n",
      "5\n",
      "6\n",
      "7\n",
      "8\n",
      "9\n",
      "10\n"
     ]
    }
   ],
   "source": [
    "#50. Print numbers from 1 to 10 using range() in a loop.\n",
    "\n",
    "for num in range(1,11):\n",
    "    print(num)\n"
   ]
  }
 ],
 "metadata": {
  "kernelspec": {
   "display_name": "Python 3",
   "language": "python",
   "name": "python3"
  },
  "language_info": {
   "codemirror_mode": {
    "name": "ipython",
    "version": 3
   },
   "file_extension": ".py",
   "mimetype": "text/x-python",
   "name": "python",
   "nbconvert_exporter": "python",
   "pygments_lexer": "ipython3",
   "version": "3.11.9"
  }
 },
 "nbformat": 4,
 "nbformat_minor": 5
}
