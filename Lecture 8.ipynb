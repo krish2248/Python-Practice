{
 "cells": [
  {
   "cell_type": "code",
   "execution_count": 7,
   "id": "99f2b196",
   "metadata": {},
   "outputs": [
    {
     "name": "stdout",
     "output_type": "stream",
     "text": [
      "Sorted words by length: ['4', 'delhi', '11kota', '6666gota', 'mirzapur', 'jaipur444', 'chandni chowk']\n"
     ]
    }
   ],
   "source": [
    "city = ['jaipur444','11kota','4','6666gota','chandni chowk','delhi','mirzapur']\n",
    "\n",
    "def length(city):\n",
    "    return len(city)\n",
    "\n",
    "#try with number in list and in function sort()\n",
    "\n",
    "sort = sorted(city, key = length)\n",
    "print(\"Sorted words by length:\",sort)\n",
    "    "
   ]
  },
  {
   "cell_type": "code",
   "execution_count": 9,
   "id": "5c142734",
   "metadata": {},
   "outputs": [
    {
     "name": "stdout",
     "output_type": "stream",
     "text": [
      "sorted  ['chandni chowk', 'mirzapur', 'jaipur', 'delhi', 'kota', 'gota']\n"
     ]
    }
   ],
   "source": [
    "city = ['jaipur','kota','gota','chandni chowk','delhi','mirzapur']\n",
    "sort = sorted (city, key=lambda x: len(x), reverse=True)\n",
    "\n",
    "print(\"sorted \",sort)"
   ]
  },
  {
   "cell_type": "code",
   "execution_count": 11,
   "id": "c33ec072",
   "metadata": {},
   "outputs": [
    {
     "name": "stdout",
     "output_type": "stream",
     "text": [
      "Even numbers are  [22, 14, 16, 20, 50, 60, 70, 8]\n"
     ]
    }
   ],
   "source": [
    "set = [1,22,14,16,17,19,20,15,50,60,70,8]\n",
    "\n",
    "even = list(filter(lambda x: x % 2 == 0,set))\n",
    "\n",
    "print(\"Even numbers are \",even)"
   ]
  },
  {
   "cell_type": "code",
   "execution_count": 13,
   "id": "ebae27eb",
   "metadata": {},
   "outputs": [
    {
     "name": "stdout",
     "output_type": "stream",
     "text": [
      "100\n"
     ]
    }
   ],
   "source": [
    "task = lambda x: x ** 2\n",
    "\n",
    "print(task(10))"
   ]
  },
  {
   "cell_type": "code",
   "execution_count": 15,
   "id": "3d050b6d",
   "metadata": {},
   "outputs": [
    {
     "name": "stdout",
     "output_type": "stream",
     "text": [
      "10\n"
     ]
    }
   ],
   "source": [
    "task_add = lambda x,y: x + y\n",
    "\n",
    "print(task_add(6,4))"
   ]
  },
  {
   "cell_type": "code",
   "execution_count": 18,
   "id": "52ad6c52",
   "metadata": {},
   "outputs": [
    {
     "name": "stdout",
     "output_type": "stream",
     "text": [
      "False\n",
      "True\n"
     ]
    }
   ],
   "source": [
    "even = lambda x: x % 2 == 0\n",
    "print(even(11))\n",
    "\n",
    "even = lambda y: y % 2 == 0\n",
    "print(even(4))"
   ]
  },
  {
   "cell_type": "code",
   "execution_count": 21,
   "id": "a950a28d",
   "metadata": {},
   "outputs": [
    {
     "name": "stdout",
     "output_type": "stream",
     "text": [
      "[(4, 2), (1, 3), (8, 9)]\n"
     ]
    }
   ],
   "source": [
    "data = [(1,3),(4,2), (8,9)]\n",
    "sorted_data = sorted(data, key=lambda x:x[1])\n",
    "print(sorted_data)"
   ]
  },
  {
   "cell_type": "code",
   "execution_count": null,
   "id": "1e3096e9",
   "metadata": {},
   "outputs": [],
   "source": []
  },
  {
   "cell_type": "code",
   "execution_count": null,
   "id": "8a505c91",
   "metadata": {},
   "outputs": [],
   "source": []
  }
 ],
 "metadata": {
  "kernelspec": {
   "display_name": "Python 3",
   "language": "python",
   "name": "python3"
  },
  "language_info": {
   "codemirror_mode": {
    "name": "ipython",
    "version": 3
   },
   "file_extension": ".py",
   "mimetype": "text/x-python",
   "name": "python",
   "nbconvert_exporter": "python",
   "pygments_lexer": "ipython3",
   "version": "3.11.9"
  }
 },
 "nbformat": 4,
 "nbformat_minor": 5
}
