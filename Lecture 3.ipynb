{
 "cells": [
  {
   "cell_type": "code",
   "execution_count": 2,
   "id": "fb186751",
   "metadata": {},
   "outputs": [
    {
     "name": "stdout",
     "output_type": "stream",
     "text": [
      "['hello', 'nora', 'apple']\n"
     ]
    }
   ],
   "source": [
    "#list mutability\n",
    "list = [\"hello\", \"krish\", \"apple\"]\n",
    "list[1] = \"nora\"\n",
    "\n",
    "print (list)"
   ]
  },
  {
   "cell_type": "code",
   "execution_count": 4,
   "id": "57984c55",
   "metadata": {},
   "outputs": [
    {
     "name": "stdout",
     "output_type": "stream",
     "text": [
      "['umbrella', 'ahmedabad', 'priyraj']\n"
     ]
    }
   ],
   "source": [
    "#list slicing and updating\n",
    "list = [\"3\",\"34\",\"45433\",\"2\",\"apple\", \"banana\", \"papeya\", \"mango\", \"citrus\", \"pomogrenate\",\"apple\",\"a\", \"banana\", \"papeya\", \"mango\", \"citrus\", \"pomogrenate\",\"apple\", \"banana\", \"papeya\", \"mango\", \"citrus\", \"pomogrenate\"]\n",
    "\n",
    "list[4:7] = \"umbrella\", \"ahmedabad\", \"priyraj\"\n",
    "\n",
    "print(list[4:7])"
   ]
  },
  {
   "cell_type": "code",
   "execution_count": 9,
   "id": "e19f8fb6",
   "metadata": {},
   "outputs": [
    {
     "name": "stdout",
     "output_type": "stream",
     "text": [
      "['u', 'm', 'b']\n"
     ]
    }
   ],
   "source": [
    "#list slicing and updating\n",
    "list = [\"3\",\"34\",\"45433\",\"2\",\"apple\", \"banana\", \"papeya\", \"mango\", \"citrus\", \"pomogrenate\",\"apple\",\"a\", \"banana\", \"papeya\", \"mango\", \"citrus\", \"pomogrenate\",\"apple\", \"banana\", \"papeya\", \"mango\", \"citrus\", \"pomogrenate\"]\n",
    "\n",
    "list[4:7] = \"umbrella\"\n",
    "\n",
    "print(list[4:7])"
   ]
  },
  {
   "cell_type": "code",
   "execution_count": 12,
   "id": "e522b82a",
   "metadata": {},
   "outputs": [
    {
     "name": "stdout",
     "output_type": "stream",
     "text": [
      "['tamanna', 'krish', 'ahmedabad', 'coding clouding']\n"
     ]
    }
   ],
   "source": [
    "#list methods\n",
    "list = [\"krish\", \"ahmedabad\", \"coding clouding\"]\n",
    "\n",
    "list.insert(0,\"tamanna\")\n",
    "\n",
    "print(list)"
   ]
  },
  {
   "cell_type": "code",
   "execution_count": 15,
   "id": "1f3fa4f3",
   "metadata": {},
   "outputs": [
    {
     "name": "stdout",
     "output_type": "stream",
     "text": [
      "['krish', 'ahmedabad', 'coding clouding', 'yellow']\n"
     ]
    }
   ],
   "source": [
    "#list methods\n",
    "list = [\"krish\", \"ahmedabad\", \"coding clouding\"]\n",
    "\n",
    "list.append(\"yellow\")\n",
    "\n",
    "print(list)"
   ]
  },
  {
   "cell_type": "code",
   "execution_count": 18,
   "id": "3f4fa729",
   "metadata": {},
   "outputs": [
    {
     "name": "stdout",
     "output_type": "stream",
     "text": [
      "['3', '34', '45433', '2', 'apple', 'banana', 'papeya', 'mango', 'krish', 'ahmedabad', 'coding clouding']\n"
     ]
    }
   ],
   "source": [
    "#list methods\n",
    "list = [\"krish\", \"ahmedabad\", \"coding clouding\"]\n",
    "box = [\"3\",\"34\",\"45433\",\"2\",\"apple\", \"banana\", \"papeya\", \"mango\"]\n",
    "\n",
    "box.extend(list)\n",
    "\n",
    "print(box)"
   ]
  },
  {
   "cell_type": "code",
   "execution_count": 24,
   "id": "8aa9679a",
   "metadata": {},
   "outputs": [
    {
     "name": "stdout",
     "output_type": "stream",
     "text": [
      "('krish', 'code')\n"
     ]
    }
   ],
   "source": [
    "#list methods\n",
    "tuple = (\"krish\",\"code\")\n",
    "list = [\"cloud\", \"rain\"]\n",
    "\n",
    "list.extend(tuple)\n",
    "\n",
    "print(tuple)"
   ]
  },
  {
   "cell_type": "code",
   "execution_count": 25,
   "id": "4af5042b",
   "metadata": {},
   "outputs": [
    {
     "name": "stdout",
     "output_type": "stream",
     "text": [
      "['3', '34', '45433', '2', 'apple', 'banana', 'papeya']\n"
     ]
    }
   ],
   "source": [
    "#list methods\n",
    "box = [\"3\",\"34\",\"45433\",\"2\",\"apple\", \"banana\", \"papeya\", \"mango\"]\n",
    "\n",
    "box.remove(\"mango\")\n",
    "\n",
    "print(box)"
   ]
  },
  {
   "cell_type": "code",
   "execution_count": 26,
   "id": "0d7158a4",
   "metadata": {},
   "outputs": [
    {
     "name": "stdout",
     "output_type": "stream",
     "text": [
      "['3', '34', '45433', 'apple', 'banana', 'papeya', 'mango']\n"
     ]
    }
   ],
   "source": [
    "#list methods\n",
    "box = [\"3\",\"34\",\"45433\",\"2\",\"apple\", \"banana\", \"papeya\", \"mango\"]\n",
    "\n",
    "box.pop(3)\n",
    "\n",
    "print(box)"
   ]
  },
  {
   "cell_type": "code",
   "execution_count": 32,
   "id": "6c1212db",
   "metadata": {},
   "outputs": [
    {
     "name": "stdout",
     "output_type": "stream",
     "text": [
      "['3', '34', '45433', '2', 'apple', 'papeya', 'mango']\n"
     ]
    }
   ],
   "source": [
    "#list methods\n",
    "box = [\"3\",\"34\",\"45433\",\"2\",\"apple\", \"banana\", \"papeya\", \"mango\"]\n",
    "\n",
    "del box[5]\n",
    "print(box)\n",
    "\n"
   ]
  },
  {
   "cell_type": "code",
   "execution_count": 6,
   "id": "8eb56dd4",
   "metadata": {},
   "outputs": [
    {
     "ename": "NameError",
     "evalue": "name 'box' is not defined",
     "output_type": "error",
     "traceback": [
      "\u001b[31m---------------------------------------------------------------------------\u001b[39m",
      "\u001b[31mNameError\u001b[39m                                 Traceback (most recent call last)",
      "\u001b[36mCell\u001b[39m\u001b[36m \u001b[39m\u001b[32mIn[6]\u001b[39m\u001b[32m, line 4\u001b[39m\n\u001b[32m      2\u001b[39m box = [\u001b[33m\"\u001b[39m\u001b[33m3\u001b[39m\u001b[33m\"\u001b[39m,\u001b[33m\"\u001b[39m\u001b[33m34\u001b[39m\u001b[33m\"\u001b[39m,\u001b[33m\"\u001b[39m\u001b[33m45433\u001b[39m\u001b[33m\"\u001b[39m,\u001b[33m\"\u001b[39m\u001b[33m2\u001b[39m\u001b[33m\"\u001b[39m,\u001b[33m\"\u001b[39m\u001b[33mapple\u001b[39m\u001b[33m\"\u001b[39m, \u001b[33m\"\u001b[39m\u001b[33mbanana\u001b[39m\u001b[33m\"\u001b[39m, \u001b[33m\"\u001b[39m\u001b[33mpapeya\u001b[39m\u001b[33m\"\u001b[39m, \u001b[33m\"\u001b[39m\u001b[33mmango\u001b[39m\u001b[33m\"\u001b[39m]\n\u001b[32m      3\u001b[39m \u001b[38;5;28;01mdel\u001b[39;00m box\n\u001b[32m----> \u001b[39m\u001b[32m4\u001b[39m \u001b[38;5;28mprint\u001b[39m(\u001b[43mbox\u001b[49m)\n",
      "\u001b[31mNameError\u001b[39m: name 'box' is not defined"
     ]
    }
   ],
   "source": [
    "#list methods\n",
    "box = [\"3\",\"34\",\"45433\",\"2\",\"apple\", \"banana\", \"papeya\", \"mango\"]\n",
    "del box\n",
    "print(box)"
   ]
  },
  {
   "cell_type": "code",
   "execution_count": 35,
   "id": "d961f7c2",
   "metadata": {},
   "outputs": [
    {
     "name": "stdout",
     "output_type": "stream",
     "text": [
      "[]\n"
     ]
    }
   ],
   "source": [
    "#list methods\n",
    "box = [\"3\",\"34\",\"45433\",\"2\",\"apple\", \"banana\", \"papeya\", \"mango\"]\n",
    "\n",
    "box.clear()\n",
    "\n",
    "print(box)"
   ]
  },
  {
   "cell_type": "code",
   "execution_count": 53,
   "id": "9d2065be",
   "metadata": {},
   "outputs": [
    {
     "name": "stdout",
     "output_type": "stream",
     "text": [
      "b is greater than a\n"
     ]
    }
   ],
   "source": [
    "#if else elif\n",
    "a = 35\n",
    "b = 40\n",
    "\n",
    "if a > b: \n",
    " print(\"a is greater than b\")\n",
    "\n",
    "elif a == b:\n",
    "     print(\"a is equal to b\")\n",
    "\n",
    "else :\n",
    "    print(\"b is greater than a\")\n",
    "\n"
   ]
  },
  {
   "cell_type": "code",
   "execution_count": 54,
   "id": "dbed3403",
   "metadata": {},
   "outputs": [
    {
     "name": "stdout",
     "output_type": "stream",
     "text": [
      "b is greater than a\n"
     ]
    }
   ],
   "source": [
    "#if else elif\n",
    "a = 35\n",
    "b = 40\n",
    "\n",
    "if a > b : print(\"a greater than b\")\n",
    "\n",
    "elif a == b:\n",
    "     print(\"a is equal to b\")\n",
    "\n",
    "else :\n",
    "    print(\"b is greater than a\")\n"
   ]
  },
  {
   "cell_type": "code",
   "execution_count": 78,
   "id": "4885787c",
   "metadata": {},
   "outputs": [
    {
     "name": "stdout",
     "output_type": "stream",
     "text": [
      "b\n"
     ]
    }
   ],
   "source": [
    "#if else elif\n",
    "a = 4\n",
    "b = 40\n",
    "\n",
    "print(\"a\") if a > b else print(\"=\") if a == b else print(\"b\")"
   ]
  },
  {
   "cell_type": "code",
   "execution_count": 93,
   "id": "309c4c15",
   "metadata": {},
   "outputs": [
    {
     "name": "stdout",
     "output_type": "stream",
     "text": [
      "b is greater than a\n"
     ]
    }
   ],
   "source": [
    "#nested if\n",
    "a = float(input(\"ENTER FIRST NUMBER\"))\n",
    "b = float(input(\"ENTER SECOND NUMBER\"))\n",
    "\n",
    "if a > b : \n",
    "    print(\"a is greater than b\")\n",
    "\n",
    "if a == b :\n",
    "    print(\"a is equal to b\")\n",
    "        \n",
    "else :\n",
    "    print(\"b is greater than a\")\n"
   ]
  },
  {
   "cell_type": "code",
   "execution_count": 96,
   "id": "5d4880e0",
   "metadata": {},
   "outputs": [
    {
     "name": "stdout",
     "output_type": "stream",
     "text": [
      "a is positive and greater than b\n"
     ]
    }
   ],
   "source": [
    "a = 13\n",
    "b = 45\n",
    "\n",
    "if a > 10 and a < b :\n",
    "    print(\"a is positive and greater than b\")"
   ]
  },
  {
   "cell_type": "code",
   "execution_count": 99,
   "id": "05eade1a",
   "metadata": {},
   "outputs": [
    {
     "name": "stdout",
     "output_type": "stream",
     "text": [
      "a can be reasonable choice\n"
     ]
    }
   ],
   "source": [
    "a = 15\n",
    "b = 20\n",
    "\n",
    "if a > b or a > 10 :\n",
    "    print(\"a can be reasonable choice\")"
   ]
  },
  {
   "cell_type": "code",
   "execution_count": 103,
   "id": "2f36e70d",
   "metadata": {},
   "outputs": [
    {
     "name": "stdout",
     "output_type": "stream",
     "text": [
      "a is not a good choice\n"
     ]
    }
   ],
   "source": [
    "a = 15\n",
    "b = 20\n",
    "\n",
    "if not a > b :\n",
    "    print(\"a is not a good choice\")"
   ]
  },
  {
   "cell_type": "code",
   "execution_count": 106,
   "id": "3a865810",
   "metadata": {},
   "outputs": [],
   "source": [
    "a = 33\n",
    "b = 14\n",
    "\n",
    "if b > a:\n",
    "    pass"
   ]
  },
  {
   "cell_type": "code",
   "execution_count": 154,
   "id": "63046ee3",
   "metadata": {},
   "outputs": [
    {
     "name": "stdout",
     "output_type": "stream",
     "text": [
      "apple\n",
      "banana\n",
      "orange\n",
      "pear\n"
     ]
    }
   ],
   "source": [
    "list = [\"apple\", \"banana\",\"orange\",\"pear\"]\n",
    "\n",
    "for x in list :\n",
    "    print(x)"
   ]
  },
  {
   "cell_type": "code",
   "execution_count": 158,
   "id": "ce064512",
   "metadata": {},
   "outputs": [
    {
     "name": "stdout",
     "output_type": "stream",
     "text": [
      "apple\n",
      "banana\n",
      "orange\n",
      "pear\n"
     ]
    }
   ],
   "source": [
    "list = [\"apple\", \"banana\",\"orange\",\"pear\"]\n",
    "\n",
    "for i in range(len(list)):\n",
    "    print(list[i])"
   ]
  },
  {
   "cell_type": "code",
   "execution_count": 6,
   "id": "3fe09f11",
   "metadata": {},
   "outputs": [
    {
     "name": "stdout",
     "output_type": "stream",
     "text": [
      "('apple', 'banana', 'orange')\n"
     ]
    }
   ],
   "source": [
    "thistuple = tuple((\"apple\", \"banana\", \"orange\"))\n",
    "print(thistuple)"
   ]
  },
  {
   "cell_type": "code",
   "execution_count": 8,
   "id": "f7dd53b2",
   "metadata": {},
   "outputs": [
    {
     "name": "stdout",
     "output_type": "stream",
     "text": [
      "('apple', 'krish', 'priyraj', 'orange', 'pear')\n"
     ]
    }
   ],
   "source": [
    "x = (\"apple\", \"banana\", \"orange\", \"pear\")\n",
    "\n",
    "y = list(x)\n",
    "\n",
    "y[1:2] = \"krish\", \"priyraj\"\n",
    "\n",
    "x = tuple(y)\n",
    "\n",
    "print(x)"
   ]
  },
  {
   "cell_type": "code",
   "execution_count": 11,
   "id": "6285a686",
   "metadata": {},
   "outputs": [
    {
     "name": "stdout",
     "output_type": "stream",
     "text": [
      "('apple', 'banana', 'orange', 'pear', 'kiwi')\n"
     ]
    }
   ],
   "source": [
    "x = (\"apple\", \"banana\", \"orange\", \"pear\")\n",
    "\n",
    "y = list(x)\n",
    "\n",
    "y.append(\"kiwi\")\n",
    "\n",
    "x = tuple(y)\n",
    "\n",
    "print(x)"
   ]
  },
  {
   "cell_type": "code",
   "execution_count": 28,
   "id": "a92717c9",
   "metadata": {},
   "outputs": [
    {
     "name": "stdout",
     "output_type": "stream",
     "text": [
      "('apple', 'banana', 'orange', 'pear', 'kiwi', 'priyraj noob')\n"
     ]
    }
   ],
   "source": [
    "x = (\"apple\", \"banana\", \"orange\", \"pear\")\n",
    "\n",
    "y = (\"kiwi\",\"priyraj noob\")\n",
    "\n",
    "x += y\n",
    "\n",
    "print(x)"
   ]
  },
  {
   "cell_type": "code",
   "execution_count": 32,
   "id": "ef2e0004",
   "metadata": {},
   "outputs": [
    {
     "name": "stdout",
     "output_type": "stream",
     "text": [
      "('apple', 'orange', 'pear')\n"
     ]
    }
   ],
   "source": [
    "x = (\"apple\", \"banana\", \"orange\", \"pear\")\n",
    "\n",
    "y = list(x)\n",
    "\n",
    "y.remove(\"banana\")\n",
    "\n",
    "x = tuple(y)\n",
    "\n",
    "print(x)"
   ]
  },
  {
   "cell_type": "code",
   "execution_count": 34,
   "id": "78f5918a",
   "metadata": {},
   "outputs": [
    {
     "name": "stdout",
     "output_type": "stream",
     "text": [
      "('apple', 'orange', 'pear')\n"
     ]
    }
   ],
   "source": [
    "x = (\"apple\", \"banana\", \"orange\", \"pear\")\n",
    "\n",
    "y = list(x)\n",
    "\n",
    "del y[1]\n",
    "\n",
    "x = tuple(y)\n",
    "\n",
    "print(x)"
   ]
  },
  {
   "cell_type": "code",
   "execution_count": 37,
   "id": "f9403780",
   "metadata": {},
   "outputs": [
    {
     "ename": "NameError",
     "evalue": "name 'y' is not defined",
     "output_type": "error",
     "traceback": [
      "\u001b[31m---------------------------------------------------------------------------\u001b[39m",
      "\u001b[31mNameError\u001b[39m                                 Traceback (most recent call last)",
      "\u001b[36mCell\u001b[39m\u001b[36m \u001b[39m\u001b[32mIn[37]\u001b[39m\u001b[32m, line 7\u001b[39m\n\u001b[32m      3\u001b[39m y = \u001b[38;5;28mlist\u001b[39m(x)\n\u001b[32m      5\u001b[39m \u001b[38;5;28;01mdel\u001b[39;00m y\n\u001b[32m----> \u001b[39m\u001b[32m7\u001b[39m x = \u001b[38;5;28mtuple\u001b[39m(\u001b[43my\u001b[49m)\n\u001b[32m      9\u001b[39m \u001b[38;5;28mprint\u001b[39m(x)\n",
      "\u001b[31mNameError\u001b[39m: name 'y' is not defined"
     ]
    }
   ],
   "source": [
    "x = (\"apple\", \"banana\", \"orange\", \"pear\")\n",
    "\n",
    "y = list(x)\n",
    "\n",
    "del y\n",
    "\n",
    "x = tuple(y)\n",
    "\n",
    "print(x)"
   ]
  }
 ],
 "metadata": {
  "kernelspec": {
   "display_name": "Python 3",
   "language": "python",
   "name": "python3"
  },
  "language_info": {
   "codemirror_mode": {
    "name": "ipython",
    "version": 3
   },
   "file_extension": ".py",
   "mimetype": "text/x-python",
   "name": "python",
   "nbconvert_exporter": "python",
   "pygments_lexer": "ipython3",
   "version": "3.11.9"
  }
 },
 "nbformat": 4,
 "nbformat_minor": 5
}
