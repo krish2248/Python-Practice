{
 "cells": [
  {
   "cell_type": "code",
   "execution_count": null,
   "id": "b9aab4b8",
   "metadata": {},
   "outputs": [],
   "source": [
    "#unique number finder\n",
    "def unique_number_finder():\n",
    "    numbers = list(range(1, 101))  # List of numbers from 1 to 100\n",
    "    duplicate_numbers = [2, 3, 4, 5, 5, 10, 15, 20, 20]  # List with duplicates\n",
    "    all_numbers = numbers + duplicate_numbers\n",
    "\n",
    "    unique_numbers = set(all_numbers)\n",
    "    print(f\"Unique Numbers ({len(unique_numbers)}):\")\n",
    "    print(unique_numbers)\n",
    "\n",
    "unique_number_finder()\n"
   ]
  }
 ],
 "metadata": {
  "language_info": {
   "name": "python"
  }
 },
 "nbformat": 4,
 "nbformat_minor": 5
}
