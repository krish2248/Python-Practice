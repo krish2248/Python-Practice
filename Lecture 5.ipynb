{
 "cells": [
  {
   "cell_type": "code",
   "execution_count": null,
   "id": "5741b27b",
   "metadata": {},
   "outputs": [
    {
     "name": "stdout",
     "output_type": "stream",
     "text": [
      "{False, True, 'apple', 'banana', '1', '0'}\n"
     ]
    }
   ],
   "source": [
    "#set example\n",
    "set = {\"apple\",\"banana\", False, \"1\", True,\"0\"}\n",
    "print(set)"
   ]
  },
  {
   "cell_type": "code",
   "execution_count": null,
   "id": "0cda80e8",
   "metadata": {},
   "outputs": [
    {
     "name": "stdout",
     "output_type": "stream",
     "text": [
      "{'apple', 'orange', 'banana'}\n"
     ]
    }
   ],
   "source": [
    "#creating a set using set() constructor\n",
    "krish = set((\"apple\", \"banana\", \"orange\"))\n",
    "\n",
    "print(krish)"
   ]
  },
  {
   "cell_type": "code",
   "execution_count": null,
   "id": "46c94b18",
   "metadata": {},
   "outputs": [
    {
     "name": "stdout",
     "output_type": "stream",
     "text": [
      "apple\n",
      "habibi\n",
      "nora\n",
      "aura\n",
      "priyraj\n"
     ]
    }
   ],
   "source": [
    "#Looping through a set\n",
    "krish = {\"apple\", \"aura\", \"nora\",\"priyraj\",\"habibi\"}\n",
    "\n",
    "for x in krish :\n",
    "    print(x)"
   ]
  },
  {
   "cell_type": "code",
   "execution_count": null,
   "id": "3183e3bf",
   "metadata": {},
   "outputs": [
    {
     "name": "stdout",
     "output_type": "stream",
     "text": [
      "{'aura no', 'only nora', 'sheila', 'priyraj'}\n"
     ]
    }
   ],
   "source": [
    "#Adding items to a set\n",
    "krish = {\"priyraj\",\"aura no\", \"only nora\"}\n",
    "\n",
    "krish.add(\"sheila\")\n",
    "\n",
    "print(krish)"
   ]
  },
  {
   "cell_type": "code",
   "execution_count": null,
   "id": "0b57af7c",
   "metadata": {},
   "outputs": [
    {
     "name": "stdout",
     "output_type": "stream",
     "text": [
      "{'hello', 'aura no', 'only nora', 'priyraj'}\n"
     ]
    }
   ],
   "source": [
    "#Adding items to a set\n",
    "krish = {\"priyraj\",\"aura no\", \"only nora\"}\n",
    "\n",
    "krish.add(\"hello\")\n",
    "print(krish)\n"
   ]
  },
  {
   "cell_type": "code",
   "execution_count": null,
   "id": "b82c5f28",
   "metadata": {},
   "outputs": [
    {
     "name": "stdout",
     "output_type": "stream",
     "text": [
      "{'only nora', 'a', 'u', 'priyraj', 'aura no', 'r'}\n"
     ]
    }
   ],
   "source": [
    "#Adding items from another set to a set\n",
    "krish = {\"priyraj\",\"aura no\", \"only nora\"}\n",
    "\n",
    "aura = {\"priyraj\",\"aura no\", \"only nora\"}\n",
    "\n",
    "krish.update(\"aura\")\n",
    "\n",
    "print(krish)"
   ]
  },
  {
   "cell_type": "code",
   "execution_count": 32,
   "id": "a590c394",
   "metadata": {},
   "outputs": [
    {
     "name": "stdout",
     "output_type": "stream",
     "text": [
      "{'only nora', 'aua no', 'y nora', 'priyraj', 'priyj', 'aura no'}\n"
     ]
    }
   ],
   "source": [
    "#list + set\n",
    "krish = {\"priyraj\",\"aura no\", \"only nora\"}\n",
    "\n",
    "aura = [\"priyj\",\"aua no\", \"y nora\"]\n",
    "\n",
    "krish.update(aura)\n",
    "print(krish)"
   ]
  },
  {
   "cell_type": "code",
   "execution_count": null,
   "id": "47e2c4db",
   "metadata": {},
   "outputs": [
    {
     "name": "stdout",
     "output_type": "stream",
     "text": [
      "{'aura no', 'only nora'}\n"
     ]
    }
   ],
   "source": [
    "#Removing items from a set\n",
    "krish = {\"priyraj\",\"aura no\", \"only nora\"}\n",
    "\n",
    "krish.remove(\"priyraj\")\n",
    "\n",
    "#krish.discard(\"priyraj\") ---> Won't raise an error unlike remove\n",
    "\n",
    "print(krish)"
   ]
  },
  {
   "cell_type": "code",
   "execution_count": null,
   "id": "062b9bcb",
   "metadata": {},
   "outputs": [
    {
     "name": "stdout",
     "output_type": "stream",
     "text": [
      "krish\n",
      "{'ukraine', 'priyraj'}\n"
     ]
    }
   ],
   "source": [
    "#Removing items from a set\n",
    "krish = {\"priyraj\", \"krish\", \"ukraine\"}\n",
    "\n",
    "x = krish.pop()\n",
    "\n",
    "print(x)\n",
    "\n",
    "print (krish)"
   ]
  },
  {
   "cell_type": "code",
   "execution_count": null,
   "id": "dbf74518",
   "metadata": {},
   "outputs": [
    {
     "name": "stdout",
     "output_type": "stream",
     "text": [
      "{'1', 'b', 'c', '3', '2', 'a', '4'}\n"
     ]
    }
   ],
   "source": [
    "#Union of two sets\n",
    "set1 = {\"1\",\"2\",\"3\",\"4\"}\n",
    "\n",
    "set2 = {\"a\",\"b\",\"c\"}\n",
    "\n",
    "print(set1.union(set2))"
   ]
  },
  {
   "cell_type": "code",
   "execution_count": null,
   "id": "6f2211b9",
   "metadata": {},
   "outputs": [
    {
     "name": "stdout",
     "output_type": "stream",
     "text": [
      "{'1', 'b', 'c', '3', '2', 'a', '4'}\n"
     ]
    }
   ],
   "source": [
    "#Union of two sets\n",
    "set1 = {\"1\",\"2\",\"3\",\"4\"}\n",
    "\n",
    "set2 = {\"a\",\"b\",\"c\"}\n",
    "\n",
    "print(set1 | set2)\n"
   ]
  },
  {
   "cell_type": "code",
   "execution_count": null,
   "id": "c3887a36",
   "metadata": {},
   "outputs": [
    {
     "name": "stdout",
     "output_type": "stream",
     "text": [
      "{'1', '2', 'a', 'c', 'bda', 'b', 'abc', 'ccc', '3', '4'}\n"
     ]
    }
   ],
   "source": [
    "#Union of three sets\n",
    "set1 = {\"1\",\"2\",\"3\",\"4\"}\n",
    "\n",
    "set2 = {\"a\",\"b\",\"c\"}\n",
    "\n",
    "set3 = {\"abc\",\"bda\", \"ccc\"}\n",
    "\n",
    "set4 = set1 | set2 | set3\n",
    "\n",
    "print(set4)"
   ]
  },
  {
   "cell_type": "code",
   "execution_count": null,
   "id": "18aeaf1b",
   "metadata": {},
   "outputs": [
    {
     "name": "stdout",
     "output_type": "stream",
     "text": [
      "{'b', 'c', 'a'}\n"
     ]
    }
   ],
   "source": [
    "#Intersection of two sets\n",
    "set1 = {\"1\",\"2\",\"3\",\"4\"}\n",
    "\n",
    "set2 = {\"a\",\"b\",\"c\"}\n",
    "\n",
    "set3 = {\"abc\",\"bda\", \"ccc\"}\n",
    "\n",
    "set4 = {\"1\",\"2\",\"3\",\"4\"}\n",
    "\n",
    "set5 = {\"a\",\"b\",\"c\"}\n",
    "\n",
    "set6 = {\"abc\",\"bda\", \"ccc\"}\n",
    "\n",
    "print(set2 & set5)"
   ]
  },
  {
   "cell_type": "code",
   "execution_count": null,
   "id": "b66443f9",
   "metadata": {},
   "outputs": [
    {
     "name": "stdout",
     "output_type": "stream",
     "text": [
      "None\n"
     ]
    }
   ],
   "source": [
    "#Intersection of two sets\n",
    "set1 = {\"1\",\"2\",\"3\",\"4\",\"7\"}\n",
    "\n",
    "set2 = {\"a\",\"b\",\"c\"}\n",
    "\n",
    "set3 = {\"abc\",\"bda\", \"ccc\"}\n",
    "\n",
    "set4 = {\"1\",\"2\",\"3\",\"4\"}\n",
    "\n",
    "set5 = {\"a\",\"b\",\"c\"}\n",
    "\n",
    "set7 = set1.intersection_update(set4)\n",
    "\n",
    "print(set7)"
   ]
  },
  {
   "cell_type": "code",
   "execution_count": null,
   "id": "d14ba802",
   "metadata": {},
   "outputs": [
    {
     "name": "stdout",
     "output_type": "stream",
     "text": [
      "{'abc', 'ccc', 'bda'}\n"
     ]
    }
   ],
   "source": [
    "#Difference of two sets\n",
    "set1 = {\"1\",\"2\",\"3\",\"4\"}\n",
    "\n",
    "set2 = {\"a\",\"b\",\"c\"}\n",
    "\n",
    "set3 = {\"abc\",\"bda\", \"ccc\"}\n",
    "\n",
    "set4 = {\"1\",\"2\",\"3\",\"4\"}\n",
    "\n",
    "set5 = {\"a\",\"b\",\"c\"}\n",
    "\n",
    "set6 = {\"abc\",\"bda\", \"ccc\"}\n",
    "\n",
    "set7 = set6.difference(set2)\n",
    "\n",
    "print(set7)"
   ]
  },
  {
   "cell_type": "code",
   "execution_count": null,
   "id": "6ff2b719",
   "metadata": {},
   "outputs": [
    {
     "name": "stdout",
     "output_type": "stream",
     "text": [
      "{'1', '4', '3', '2'}\n"
     ]
    }
   ],
   "source": [
    "#Difference of two sets\n",
    "set1 = {\"1\",\"2\",\"3\",\"4\"}\n",
    "\n",
    "set2 = {\"a\",\"b\",\"c\"}\n",
    "\n",
    "set3 = {\"abc\",\"bda\", \"ccc\"}\n",
    "\n",
    "set4 = {\"1\",\"2\",\"3\",\"4\"}\n",
    "\n",
    "set5 = {\"a\",\"b\",\"c\"}\n",
    "\n",
    "set6 = {\"abc\",\"bda\", \"ccc\"}\n",
    "\n",
    "print ( set4 - set2)"
   ]
  },
  {
   "cell_type": "code",
   "execution_count": null,
   "id": "62a328d3",
   "metadata": {},
   "outputs": [
    {
     "name": "stdout",
     "output_type": "stream",
     "text": [
      "{'4', '2', '3'}\n"
     ]
    }
   ],
   "source": [
    "#Difference of three sets\n",
    "set1 = {\"1\",\"2\",\"3\",\"4\",\"c\"}\n",
    "\n",
    "set2 = {\"a\",\"b\",\"c\"}\n",
    "\n",
    "set3 = {\"abc\",\"bda\", \"ccc\", \"1\"}\n",
    "\n",
    "\n",
    "set1.difference_update(set2,set3)\n",
    "\n",
    "print(set1)"
   ]
  },
  {
   "cell_type": "code",
   "execution_count": null,
   "id": "b1b2881b",
   "metadata": {},
   "outputs": [
    {
     "name": "stdout",
     "output_type": "stream",
     "text": [
      "{'a', '2', 'bda', 'b', 'abc', 'ccc', '3', '4'}\n"
     ]
    }
   ],
   "source": [
    "#Difference of three sets\n",
    "set1 = {\"1\",\"2\",\"3\",\"4\",\"c\"}\n",
    "\n",
    "set2 = {\"a\",\"b\",\"c\"}\n",
    "\n",
    "set3 = {\"abc\",\"bda\", \"ccc\", \"1\"}\n",
    "\n",
    "set4 = set1 ^ set2 ^ set3\n",
    "\n",
    "print(set4)"
   ]
  },
  {
   "cell_type": "code",
   "execution_count": null,
   "id": "2646168e",
   "metadata": {},
   "outputs": [
    {
     "name": "stdout",
     "output_type": "stream",
     "text": [
      "{'1', 'a', '2', 'b', '3', '4'}\n"
     ]
    }
   ],
   "source": [
    "#Difference of three sets\n",
    "set1 = {\"1\",\"2\",\"3\",\"4\",\"c\"}\n",
    "\n",
    "set2 = {\"a\",\"b\",\"c\"}\n",
    "\n",
    "set3 = {\"abc\",\"bda\", \"ccc\", \"1\"}\n",
    "\n",
    "set4 = set1.symmetric_difference(set2)\n",
    "\n",
    "print(set4)"
   ]
  },
  {
   "cell_type": "code",
   "execution_count": null,
   "id": "2953253c",
   "metadata": {},
   "outputs": [
    {
     "name": "stdout",
     "output_type": "stream",
     "text": [
      "{'1', '4', 'b', '3', 'a'}\n"
     ]
    }
   ],
   "source": [
    "#Difference of three sets\n",
    "set1 = {\"1\",\"2\",\"3\",\"4\",\"c\"}\n",
    "\n",
    "set2 = {\"a\",\"b\",\"c\",\"2\"}\n",
    "\n",
    "set1.symmetric_difference_update(set2) \n",
    "\n",
    "#symmetric diff update symbol ---> ^\n",
    "\n",
    "print(set1)"
   ]
  },
  {
   "cell_type": "code",
   "execution_count": 101,
   "id": "c9679984",
   "metadata": {},
   "outputs": [],
   "source": [
    "### SubSet Online"
   ]
  },
  {
   "cell_type": "code",
   "execution_count": null,
   "id": "412556de",
   "metadata": {},
   "outputs": [
    {
     "name": "stdout",
     "output_type": "stream",
     "text": [
      "{'brand': 'pusha', 'name': 'priyraj', 'roll no': '12344', 'date': ' 12/12/2003'}\n"
     ]
    }
   ],
   "source": [
    "##Dictionary example\n",
    "dictionary = {\n",
    "     \"brand\": \"pusha\",\n",
    "     \"name\": \"priyraj\",\n",
    "     \"roll no\": \"12344\",\n",
    "     \"date\": \" 12/12/2003\"\n",
    "}\n",
    "\n",
    "print(dictionary)"
   ]
  },
  {
   "cell_type": "code",
   "execution_count": null,
   "id": "d764c59c",
   "metadata": {},
   "outputs": [
    {
     "name": "stdout",
     "output_type": "stream",
     "text": [
      " 12/12/2003\n"
     ]
    }
   ],
   "source": [
    "#Accessing items in a dictionary\n",
    "dictionary = {\n",
    "     \"brand\": \"pusha\",\n",
    "     \"name\": \"priyraj\",\n",
    "     \"roll no\": \"12344\",\n",
    "     \"date\": \" 12/12/2003\"\n",
    "}\n",
    "\n",
    "x = dictionary[\"date\"]\n",
    "print(x) \n"
   ]
  },
  {
   "cell_type": "code",
   "execution_count": null,
   "id": "de9c0932",
   "metadata": {},
   "outputs": [
    {
     "name": "stdout",
     "output_type": "stream",
     "text": [
      "{'name': 'krish', 'age': 'a2', 'batch': 'b3'}\n"
     ]
    }
   ],
   "source": [
    "#Accessing items in a dictionary\n",
    "dictionary = dict(name = \"krish\", age = \"a2\", batch = \"b3\") \n",
    "print(dictionary)"
   ]
  },
  {
   "cell_type": "code",
   "execution_count": null,
   "id": "178dfea4",
   "metadata": {},
   "outputs": [
    {
     "name": "stdout",
     "output_type": "stream",
     "text": [
      " 12/12/2003\n"
     ]
    }
   ],
   "source": [
    "#Accessing items in a dictionary\n",
    "dictionary = {\n",
    "     \"brand\": \"pusha\",\n",
    "     \"name\": \"priyraj\",\n",
    "     \"roll no\": \"12344\",\n",
    "     \"date\": \" 12/12/2003\"\n",
    "}\n",
    "\n",
    "x = dictionary.get(\"date\")\n",
    "\n",
    "print(x) "
   ]
  },
  {
   "cell_type": "code",
   "execution_count": null,
   "id": "af1831bc",
   "metadata": {},
   "outputs": [
    {
     "name": "stdout",
     "output_type": "stream",
     "text": [
      "dict_keys(['brand', 'name', 'roll no', 'date'])\n"
     ]
    }
   ],
   "source": [
    "#Accessing items in a dictionary\n",
    "dictionary = {\n",
    "     \"brand\": \"pusha\",\n",
    "     \"name\": \"priyraj\",\n",
    "     \"roll no\": \"12344\",\n",
    "     \"date\": \" 12/12/2003\"\n",
    "}\n",
    "\n",
    "x = dictionary.keys()\n",
    "\n",
    "print(x)"
   ]
  },
  {
   "cell_type": "code",
   "execution_count": null,
   "id": "3229405b",
   "metadata": {},
   "outputs": [
    {
     "name": "stdout",
     "output_type": "stream",
     "text": [
      "dict_values(['pusha', 'priyraj', '12344', ' 12/12/2003'])\n"
     ]
    }
   ],
   "source": [
    "#Accessing items in a dictionary\n",
    "dictionary = {\n",
    "     \"brand\": \"pusha\",\n",
    "     \"name\": \"priyraj\",\n",
    "     \"roll no\": \"12344\",\n",
    "     \"date\": \" 12/12/2003\"\n",
    "}\n",
    "\n",
    "x = dictionary.values()\n",
    "\n",
    "print(x)"
   ]
  },
  {
   "cell_type": "code",
   "execution_count": null,
   "id": "a934bf85",
   "metadata": {},
   "outputs": [
    {
     "name": "stdout",
     "output_type": "stream",
     "text": [
      "dict_keys(['brand', 'name', 'roll no', 'date'])\n",
      "dict_keys(['brand', 'name', 'roll no', 'date', 'purchase'])\n"
     ]
    }
   ],
   "source": [
    "#    Accessing items in a dictionary\n",
    "dictionary = {\n",
    "     \"brand\": \"pusha\",\n",
    "     \"name\": \"priyraj\",\n",
    "     \"roll no\": \"12344\",\n",
    "     \"date\": \" 12/12/2003\"\n",
    "}\n",
    "\n",
    "x = dictionary.keys()\n",
    "\n",
    "print(x)\n",
    "\n",
    "dictionary[\"purchase\"] = \"2nd owner\"\n",
    "\n",
    "print(x)"
   ]
  },
  {
   "cell_type": "code",
   "execution_count": null,
   "id": "305e94af",
   "metadata": {},
   "outputs": [
    {
     "name": "stdout",
     "output_type": "stream",
     "text": [
      "dict_values(['pusha', 'priyraj', '12344', ' 12/12/2003'])\n",
      "dict_values(['pusha', 'priyraj', '90000', ' 12/12/2003'])\n"
     ]
    }
   ],
   "source": [
    "#    Accessing items in a dictionary\n",
    "dictionary = {\n",
    "     \"brand\": \"pusha\",\n",
    "     \"name\": \"priyraj\",\n",
    "     \"roll no\": \"12344\",\n",
    "     \"date\": \" 12/12/2003\"\n",
    "}\n",
    "\n",
    "x = dictionary.values()\n",
    "\n",
    "print(x)\n",
    "\n",
    "dictionary[\"roll no\"] = \"90000\"\n",
    "\n",
    "print(x)"
   ]
  },
  {
   "cell_type": "code",
   "execution_count": null,
   "id": "d7f9bea1",
   "metadata": {},
   "outputs": [
    {
     "name": "stdout",
     "output_type": "stream",
     "text": [
      "dict_items([('brand', 'pusha'), ('name', 'priyraj'), ('roll no', '12344'), ('date', ' 12/12/2003')])\n",
      "dict_items([('brand', 'pusha'), ('name', 'krish'), ('roll no', '12344'), ('date', ' 12/12/2003')])\n"
     ]
    }
   ],
   "source": [
    "#    Accessing items in a dictionary\n",
    "dictionary = {\n",
    "     \"brand\": \"pusha\",\n",
    "     \"name\": \"priyraj\",\n",
    "     \"roll no\": \"12344\",\n",
    "     \"date\": \" 12/12/2003\"\n",
    "}\n",
    "\n",
    "x =  dictionary.items()\n",
    "\n",
    "\n",
    "print(x)\n",
    "\n",
    "y = dictionary.values()\n",
    "\n",
    "dictionary[\"name\"] = \"krish\"\n",
    "\n",
    "print(x)"
   ]
  }
 ],
 "metadata": {
  "kernelspec": {
   "display_name": "Python 3",
   "language": "python",
   "name": "python3"
  },
  "language_info": {
   "codemirror_mode": {
    "name": "ipython",
    "version": 3
   },
   "file_extension": ".py",
   "mimetype": "text/x-python",
   "name": "python",
   "nbconvert_exporter": "python",
   "pygments_lexer": "ipython3",
   "version": "3.11.9"
  }
 },
 "nbformat": 4,
 "nbformat_minor": 5
}
