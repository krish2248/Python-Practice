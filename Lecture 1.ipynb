{
 "cells": [
  {
   "cell_type": "code",
   "execution_count": 2,
   "id": "694903fd",
   "metadata": {},
   "outputs": [
    {
     "name": "stdout",
     "output_type": "stream",
     "text": [
      "hello world\n"
     ]
    }
   ],
   "source": [
    "print(\"hello world\")"
   ]
  },
  {
   "cell_type": "code",
   "execution_count": null,
   "id": "64a11884",
   "metadata": {},
   "outputs": [
    {
     "name": "stdout",
     "output_type": "stream",
     "text": [
      "-36\n"
     ]
    }
   ],
   "source": [
    "# this is a comment using hashtag\n",
    "a = 8\n",
    "b = 18\n",
    "c = 13\n",
    "d = -13\n",
    "# this is a comment using hashtag\n",
    "\n",
    "\"\"\"\n",
    "this is also a comment using triple quotes\n",
    "\"\"\"\n",
    "\n",
    "\n",
    "print (a - c -b + d)"
   ]
  },
  {
   "cell_type": "code",
   "execution_count": null,
   "id": "75ab8558",
   "metadata": {},
   "outputs": [
    {
     "name": "stdout",
     "output_type": "stream",
     "text": [
      "-10j\n"
     ]
    }
   ],
   "source": [
    "# complex numbers\n",
    "a = 9 + 4j\n",
    "b = 9 + 14j \n",
    "\n",
    "print (a - b)"
   ]
  },
  {
   "cell_type": "code",
   "execution_count": null,
   "id": "5f84440d",
   "metadata": {},
   "outputs": [
    {
     "name": "stdout",
     "output_type": "stream",
     "text": [
      "4695452425098908797088971409337422035076128813\n"
     ]
    }
   ],
   "source": [
    "# exponentiation operator\n",
    "a = 13\n",
    "b = 41\n",
    "\n",
    "print (a ** b)"
   ]
  },
  {
   "cell_type": "code",
   "execution_count": null,
   "id": "0223601d",
   "metadata": {},
   "outputs": [
    {
     "name": "stdout",
     "output_type": "stream",
     "text": [
      "krish 16\n"
     ]
    }
   ],
   "source": [
    "# multiple assignment\n",
    "a = \"krish\"\n",
    "b = 16\n",
    "\n",
    "print (a,b)"
   ]
  },
  {
   "cell_type": "code",
   "execution_count": 18,
   "id": "a1533859",
   "metadata": {},
   "outputs": [
    {
     "data": {
      "text/plain": [
       "str"
      ]
     },
     "execution_count": 18,
     "metadata": {},
     "output_type": "execute_result"
    }
   ],
   "source": [
    "type (a) #this is a function that tells the type of variable"
   ]
  },
  {
   "cell_type": "code",
   "execution_count": 19,
   "id": "0596355f",
   "metadata": {},
   "outputs": [
    {
     "data": {
      "text/plain": [
       "int"
      ]
     },
     "execution_count": 19,
     "metadata": {},
     "output_type": "execute_result"
    }
   ],
   "source": [
    "type(b)"
   ]
  },
  {
   "cell_type": "code",
   "execution_count": 22,
   "id": "b01f031d",
   "metadata": {},
   "outputs": [
    {
     "name": "stdout",
     "output_type": "stream",
     "text": [
      "\"hello world\"\n"
     ]
    }
   ],
   "source": [
    "print ('\"hello world\"') #double quotes inside single quotes ---> asked in interviews"
   ]
  },
  {
   "cell_type": "code",
   "execution_count": 25,
   "id": "472290ad",
   "metadata": {},
   "outputs": [
    {
     "name": "stdout",
     "output_type": "stream",
     "text": [
      "'hello'\n"
     ]
    }
   ],
   "source": [
    "print (\"'hello'\") #vice versa for the same"
   ]
  },
  {
   "cell_type": "code",
   "execution_count": null,
   "id": "32f55ede",
   "metadata": {},
   "outputs": [
    {
     "name": "stdout",
     "output_type": "stream",
     "text": [
      "10 12 13\n"
     ]
    }
   ],
   "source": [
    "a, b , c = 10, 12, 13\n",
    "print (a, b, c)"
   ]
  },
  {
   "cell_type": "code",
   "execution_count": null,
   "id": "55a28c6d",
   "metadata": {},
   "outputs": [
    {
     "name": "stdout",
     "output_type": "stream",
     "text": [
      "orange\n",
      "orange\n",
      "orange\n"
     ]
    }
   ],
   "source": [
    "# multiple assignment\n",
    "a = b= c = \"orange\"\n",
    "print (a)\n",
    "print (b)\n",
    "print (c)"
   ]
  },
  {
   "cell_type": "code",
   "execution_count": null,
   "id": "04faaa1c",
   "metadata": {},
   "outputs": [
    {
     "name": "stdout",
     "output_type": "stream",
     "text": [
      "orange is a fruit\n",
      "banana is yellow\n",
      "orange is a fruit banana is yellow\n",
      "banana is yellow banana is yellow\n"
     ]
    }
   ],
   "source": [
    "# String Concatenation and Formatting\n",
    "x = \"orange is a fruit\"\n",
    "y = \"banana is yellow\"\n",
    "print (x)\n",
    "print (y)\n",
    "x == y #delcaring x and y are equal\n",
    "print (x,y)\n",
    "\n",
    "x = y #assigning the value of y to x\n",
    "print (x,y)\n",
    "\n"
   ]
  },
  {
   "cell_type": "code",
   "execution_count": null,
   "id": "c324d637",
   "metadata": {},
   "outputs": [
    {
     "name": "stdout",
     "output_type": "stream",
     "text": [
      "python is smart\n",
      "pythonissmart\n",
      "python is smart\n"
     ]
    }
   ],
   "source": [
    "# String Concatenation and Formatting\n",
    "x = \"python\"\n",
    "y = \"is\"\n",
    "z = \"smart\"\n",
    "\n",
    "print (x, y, z)\n",
    "\n",
    "print (x + y + z) #this will print without spaces\n",
    "\n",
    "print (x + \" \" + y + \" \" + z) #this will print with spaces"
   ]
  },
  {
   "cell_type": "code",
   "execution_count": null,
   "id": "afd216d1",
   "metadata": {},
   "outputs": [
    {
     "name": "stdout",
     "output_type": "stream",
     "text": [
      "Hello World\n",
      "HELLO WORLD\n",
      "hello world\n"
     ]
    }
   ],
   "source": [
    "# String Methods\n",
    "a = \"Hello World\"\n",
    "\n",
    "print (a)\n",
    "\n",
    "a.upper() #this will convert the string to upper case\n",
    "print(a.upper())  # both fucntions are same so only one will be printed\n",
    "\n",
    "a.lower() #this will convert the string to lower cases\n",
    "print(a.lower())  # both fucntions are same so only one will be printed\n"
   ]
  },
  {
   "cell_type": "code",
   "execution_count": null,
   "id": "af780843",
   "metadata": {},
   "outputs": [
    {
     "name": "stdout",
     "output_type": "stream",
     "text": [
      "        dear     prime minister\n",
      "dear     prime minister\n"
     ]
    }
   ],
   "source": [
    "# this will convert the first character of the string to upper case\n",
    "a = \"        dear     prime minister\"\n",
    "print (a)\n",
    "print(a.strip()) #this will remove the extra spaces in the string\n"
   ]
  },
  {
   "cell_type": "code",
   "execution_count": null,
   "id": "43c42b81",
   "metadata": {},
   "outputs": [
    {
     "name": "stdout",
     "output_type": "stream",
     "text": [
      "jello, world\n",
      "hello, universe\n",
      "hi, world\n"
     ]
    }
   ],
   "source": [
    "#replace function in strings\n",
    "a = \"hello, world\" \n",
    "print (a.replace(\"h\", \"j\")) #this will replace h with j in the string\n",
    "print (a.replace(\"world\", \"universe\")) #this will replace world with universe in the string\n",
    "print(a.replace(\"hello\", \"hi\")) #this will replace hello with hi in the string"
   ]
  },
  {
   "cell_type": "code",
   "execution_count": null,
   "id": "e96c8e71",
   "metadata": {},
   "outputs": [
    {
     "name": "stdout",
     "output_type": "stream",
     "text": [
      "krish's age is 22 years\n"
     ]
    }
   ],
   "source": [
    "#print(a.replace(\"o\", \"a\")) #this will replace o with a in the string\n",
    "age = 22\n",
    "print(f\"krish's age is {age} years\") #f string to print variables inside strings"
   ]
  },
  {
   "cell_type": "code",
   "execution_count": null,
   "id": "f58e9f78",
   "metadata": {},
   "outputs": [
    {
     "name": "stdout",
     "output_type": "stream",
     "text": [
      "krish's age is 30 years\n"
     ]
    }
   ],
   "source": [
    "#print(f\"krish's age is {age} years\") #f string to print variables inside strings\n",
    "age = 22\n",
    "print(f\"krish's age is {age + 8} years\") #f string to print variables inside strings with operations"
   ]
  },
  {
   "cell_type": "code",
   "execution_count": null,
   "id": "e84f79bf",
   "metadata": {},
   "outputs": [
    {
     "name": "stdout",
     "output_type": "stream",
     "text": [
      "i'd be there if u had called me earlier\n"
     ]
    }
   ],
   "source": [
    "print (\"i\\'d have been there if u had called me earlier\") #escaping single quote using backslash"
   ]
  },
  {
   "cell_type": "code",
   "execution_count": 74,
   "id": "96ac603a",
   "metadata": {},
   "outputs": [
    {
     "name": "stdout",
     "output_type": "stream",
     "text": [
      "i'd have been there, \n",
      " if u had called me earlier\n"
     ]
    }
   ],
   "source": [
    "print (\"i\\'d have been there, \\n if u had called me earlier\") #new line using \\n"
   ]
  },
  {
   "cell_type": "code",
   "execution_count": 76,
   "id": "d5b00c90",
   "metadata": {},
   "outputs": [
    {
     "name": "stdout",
     "output_type": "stream",
     "text": [
      " world\n"
     ]
    }
   ],
   "source": [
    "print (\"hello \\r world\") #carriage return using \\r"
   ]
  },
  {
   "cell_type": "code",
   "execution_count": 78,
   "id": "a040ac24",
   "metadata": {},
   "outputs": [
    {
     "name": "stdout",
     "output_type": "stream",
     "text": [
      "hello\tworld\n"
     ]
    }
   ],
   "source": [
    "print (\"hello\\tworld\") #tab space using \\t"
   ]
  },
  {
   "cell_type": "code",
   "execution_count": null,
   "id": "02347f02",
   "metadata": {},
   "outputs": [
    {
     "name": "stdout",
     "output_type": "stream",
     "text": [
      "hello world\n"
     ]
    }
   ],
   "source": [
    "\n",
    "print (\"hellok\\b world\") #backspace using \\b"
   ]
  },
  {
   "cell_type": "code",
   "execution_count": null,
   "id": "4fb72d5f",
   "metadata": {},
   "outputs": [
    {
     "name": "stdout",
     "output_type": "stream",
     "text": [
      "<class 'float'>\n",
      "<class 'float'>\n",
      "<class 'float'>\n",
      "35000.0 120000.0 -8.77e+101\n"
     ]
    }
   ],
   "source": [
    "#### **1. Scientific Notation and Variable Types**\n",
    "x = 35e3\n",
    "y = 12E4\n",
    "z = -87.7e100\n",
    "a = \"krish\"\n",
    "print(type(x)) #this will print the type of variable\n",
    "print(type(y))\n",
    "print(type(z))\n",
    "print (x, y, z)\n"
   ]
  },
  {
   "cell_type": "code",
   "execution_count": null,
   "id": "c45dcbd7",
   "metadata": {},
   "outputs": [
    {
     "name": "stdout",
     "output_type": "stream",
     "text": [
      "the price of the item is 49.99\n"
     ]
    }
   ],
   "source": [
    "# formatting to 2 decimal places\n",
    "price = 49.99\n",
    "print (\"the price of the item is\",price)"
   ]
  },
  {
   "cell_type": "code",
   "execution_count": null,
   "id": "4d8540a5",
   "metadata": {},
   "outputs": [
    {
     "name": "stdout",
     "output_type": "stream",
     "text": [
      "the price of the item is 49.00$\n"
     ]
    }
   ],
   "source": [
    "# formatting to 2 decimal places\n",
    "price = 49\n",
    "print (f\"the price of the item is {price:.2f}$\")"
   ]
  },
  {
   "cell_type": "code",
   "execution_count": null,
   "id": "6cc9c3a1",
   "metadata": {},
   "outputs": [
    {
     "name": "stdout",
     "output_type": "stream",
     "text": [
      "the temperature is 36.9 degree celsius\n"
     ]
    }
   ],
   "source": [
    "### **3. Declaring and Printing a Float**\n",
    "                \n",
    "a = 36.9\n",
    "print (f\"the temperature is {a:.1f} degree celsius\")"
   ]
  },
  {
   "cell_type": "code",
   "execution_count": null,
   "id": "46f6c618",
   "metadata": {},
   "outputs": [
    {
     "name": "stdout",
     "output_type": "stream",
     "text": [
      "the price of the item is 3.00$\n"
     ]
    }
   ],
   "source": [
    "### **4. Adding Two Integers**\n",
    "a = float(input(\"Enter a number: \"))\n",
    "b = float(input(\"Enter another number: \"))\n",
    "price = a + b \n",
    "print (f\"the price of the item is {price:.2f}$\")"
   ]
  },
  {
   "cell_type": "code",
   "execution_count": null,
   "id": "5695b554",
   "metadata": {},
   "outputs": [
    {
     "name": "stdout",
     "output_type": "stream",
     "text": [
      "Addition : 22.00\n",
      "Substraction : 0.00\n",
      "Multiplication : 121.00\n",
      "Division : 1.00\n"
     ]
    }
   ],
   "source": [
    "# 5.calculator\n",
    "a = float(input(\"Enter First Number :\"))\n",
    "b = float(input(\"Enter Second Number :\"))\n",
    "\n",
    "c = a + b\n",
    "d = a - b\n",
    "e = a * b\n",
    "f = a / b\n",
    "\n",
    "print(f\"Addition : {c:.2f}\")\n",
    "print(f\"Substraction : {d:.2f}\")\n",
    "print(f\"Multiplication : {e:.2f}\")\n",
    "print(f\"Division : {f:.2f}\")\n"
   ]
  },
  {
   "cell_type": "code",
   "execution_count": null,
   "id": "3b4366d3",
   "metadata": {},
   "outputs": [
    {
     "name": "stdout",
     "output_type": "stream",
     "text": [
      "Arithmetic result is : 8.00\n"
     ]
    }
   ],
   "source": [
    "### **6. Float Arithmetic**\n",
    "\n",
    "a = 4\n",
    "b = 4\n",
    "result = a + b\n",
    "print(f\"Arithmetic result is : {result:.2f}\")"
   ]
  },
  {
   "cell_type": "code",
   "execution_count": null,
   "id": "f2771e4e",
   "metadata": {},
   "outputs": [
    {
     "name": "stdout",
     "output_type": "stream",
     "text": [
      "Combined result is : 7.50\n"
     ]
    }
   ],
   "source": [
    "### **7. Combining Integers and Floats**\n",
    "a = 5\n",
    "b = 2.5\n",
    "\n",
    "result = a + b\n",
    "print(f\"Combined result is : {result:.2f}\")\n"
   ]
  },
  {
   "cell_type": "code",
   "execution_count": null,
   "id": "3fc03bbe",
   "metadata": {},
   "outputs": [
    {
     "name": "stdout",
     "output_type": "stream",
     "text": [
      "Rounded result is : 4.315\n"
     ]
    }
   ],
   "source": [
    "### **8. Rounding a Float**\n",
    "a = 4.314578543234\n",
    "b = round(a,3)\n",
    "\n",
    "print(f\"Rounded result is : {b}\")"
   ]
  },
  {
   "cell_type": "code",
   "execution_count": null,
   "id": "45b237e2",
   "metadata": {},
   "outputs": [
    {
     "name": "stdout",
     "output_type": "stream",
     "text": [
      "entered value is : 23.0\n",
      "the interger value is : 23\n",
      "the rounded value is : 23\n"
     ]
    }
   ],
   "source": [
    "### **9. Converting Float to Integer**\n",
    "a = float(input(\"enter a float number:\"))\n",
    "b = int(a)\n",
    "c = round(a)\n",
    "\n",
    "print(\"entered value is :\",a)\n",
    "print(f\"the interger value is : {b}\")\n",
    "print(f\"the rounded value is : {c}\")"
   ]
  },
  {
   "cell_type": "code",
   "execution_count": null,
   "id": "72dbbfd4",
   "metadata": {},
   "outputs": [
    {
     "name": "stdout",
     "output_type": "stream",
     "text": [
      "entered values are : [2.0, 4.0, 6.0, 12.6, 146.0, 123.0]\n",
      "the total sum of the list is : 293.6000\n"
     ]
    }
   ],
   "source": [
    "### **10. Sum of Multiple Floats**\n",
    "a = float(input(\"enter a float number:\"))\n",
    "b = float(input(\"enter another float number:\"))\n",
    "c = float(input(\"enter another float number:\"))\n",
    "d = float(input(\"enter another float number:\"))\n",
    "e = float(input(\"enter another float number:\"))\n",
    "f = float(input(\"enter another float number:\"))\n",
    "\n",
    "list = [a,b,c,d,e,f]\n",
    "total = sum(list)\n",
    "\n",
    "print(\"entered values are :\",list)\n",
    "print(f\"the total sum of the list is : {total:.4f}\")"
   ]
  },
  {
   "cell_type": "code",
   "execution_count": null,
   "id": "5d83cb3f",
   "metadata": {},
   "outputs": [],
   "source": [
    "### **11. More Arithmetic Operations**\n",
    "x = 15\n",
    "y = 25\n",
    "z = 40\n",
    "\n",
    "result1 = x + y\n",
    "result2 = x - y\n",
    "result3 = x * y\n",
    "result4 = y / x\n",
    "result5 = y // x\n",
    "result6 = x ** 2\n",
    "\n",
    "print(\"result 1:\", result1)\n",
    "print(\"result 2:\", result2)\n",
    "print(\"result 3:\", result3)\n",
    "print(\"result 4:\", result4)\n",
    "print(\"result 5:\", result5)\n",
    "print(\"result 6:\", result6)"
   ]
  },
  {
   "cell_type": "code",
   "execution_count": null,
   "id": "20be2be5",
   "metadata": {},
   "outputs": [
    {
     "name": "stdout",
     "output_type": "stream",
     "text": [
      "result 1: 50\n",
      "result 2: 12\n",
      "result 3: 5\n",
      "result 4: 2.5\n",
      "result 5: 5\n",
      "result 6: 32\n"
     ]
    }
   ],
   "source": [
    "### **12. More Arithmetic Operations**\n",
    "a = 5\n",
    "b = 2\n",
    "c = 10\n",
    "\n",
    "result1 = a * c\n",
    "result2 = b + c\n",
    "result3 = c - a\n",
    "result4 = a / b\n",
    "result5 = c // b\n",
    "result6 = b ** a\n",
    "\n",
    "print(\"result 1:\", result1)\n",
    "print(\"result 2:\", result2)\n",
    "print(\"result 3:\", result3)\n",
    "print(\"result 4:\", result4)         \n",
    "print(\"result 5:\", result5)\n",
    "print(\"result 6:\", result6)"
   ]
  },
  {
   "cell_type": "code",
   "execution_count": null,
   "id": "9fb36efd",
   "metadata": {},
   "outputs": [
    {
     "name": "stdout",
     "output_type": "stream",
     "text": [
      "the total sum of the list is : 148.7430\n"
     ]
    }
   ],
   "source": [
    "# 13. Sum of Multiple Floats\n",
    "house = [12.45, 15.333, 7.5,34.56, 78.9]\n",
    "total = sum(house)\n",
    "\n",
    "print(f\"the total sum of the list is : {total:.4f}\")"
   ]
  }
 ],
 "metadata": {
  "kernelspec": {
   "display_name": "Python 3",
   "language": "python",
   "name": "python3"
  },
  "language_info": {
   "codemirror_mode": {
    "name": "ipython",
    "version": 3
   },
   "file_extension": ".py",
   "mimetype": "text/x-python",
   "name": "python",
   "nbconvert_exporter": "python",
   "pygments_lexer": "ipython3",
   "version": "3.11.9"
  }
 },
 "nbformat": 4,
 "nbformat_minor": 5
}
