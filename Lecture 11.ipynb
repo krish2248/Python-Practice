{
 "cells": [
  {
   "cell_type": "code",
   "execution_count": 1,
   "id": "a88cb096",
   "metadata": {},
   "outputs": [
    {
     "name": "stdout",
     "output_type": "stream",
     "text": [
      "krish\n",
      "soni\n"
     ]
    }
   ],
   "source": [
    "tuple = (\"krish\",\"soni\",\"kpes\")\n",
    "iterator = iter(tuple)\n",
    "\n",
    "print(next(iterator))\n",
    "print(next(iterator))"
   ]
  },
  {
   "cell_type": "code",
   "execution_count": 4,
   "id": "0fb2613d",
   "metadata": {},
   "outputs": [
    {
     "name": "stdout",
     "output_type": "stream",
     "text": [
      "b\n",
      "a\n",
      "n\n",
      "a\n",
      "n\n",
      "a\n"
     ]
    }
   ],
   "source": [
    "str = \"banana\"\n",
    "myiter = iter(str)\n",
    "\n",
    "print(next(myiter))\n",
    "print(next(myiter))\n",
    "print(next(myiter))\n",
    "print(next(myiter))\n",
    "print(next(myiter))\n",
    "print(next(myiter))\n"
   ]
  },
  {
   "cell_type": "code",
   "execution_count": null,
   "id": "f9e51a51",
   "metadata": {},
   "outputs": [
    {
     "name": "stdout",
     "output_type": "stream",
     "text": [
      "1\n",
      "2\n",
      "3\n",
      "4\n",
      "5\n"
     ]
    }
   ],
   "source": [
    "class num:\n",
    "    def __iter__(self):\n",
    "        self.a = 1\n",
    "        return self\n",
    "    \n",
    "    def __next__(self):\n",
    "        x = self.a\n",
    "\n",
    "        self.a += 1\n",
    "        return x\n",
    "    \n",
    "myclass = num()\n",
    "myiter = iter(myclass)\n",
    "\n",
    "print(next(myiter))\n",
    "print(next(myiter))\n",
    "print(next(myiter))\n",
    "print(next(myiter))\n",
    "print(next(myiter))\n",
    "print(next(myiter))\n",
    "\n",
    "    "
   ]
  },
  {
   "cell_type": "code",
   "execution_count": 14,
   "id": "4a02d7a7",
   "metadata": {},
   "outputs": [
    {
     "name": "stdout",
     "output_type": "stream",
     "text": [
      "1\n",
      "2\n",
      "3\n",
      "4\n",
      "5\n",
      "6\n",
      "7\n",
      "8\n",
      "9\n",
      "10\n"
     ]
    }
   ],
   "source": [
    "\n",
    "class num:\n",
    "    def __iter__(self):\n",
    "        self.a = 1\n",
    "        return self\n",
    "    \n",
    "    def __next__(self):\n",
    "        if self.a <= 10:\n",
    "           x = self.a\n",
    "           self.a += 1\n",
    "           return x\n",
    "        else:\n",
    "          raise StopIteration\n",
    "    \n",
    "myclass = num()\n",
    "myiter = iter(myclass)\n",
    "\n",
    "for x in myiter:\n",
    "    print(x)\n",
    "    "
   ]
  },
  {
   "cell_type": "code",
   "execution_count": 18,
   "id": "70c12734",
   "metadata": {},
   "outputs": [
    {
     "name": "stdout",
     "output_type": "stream",
     "text": [
      "Petrol\n",
      "Desiel\n",
      "Gasoline\n"
     ]
    }
   ],
   "source": [
    "class car:\n",
    "    def __init__(self,model,company):\n",
    "      self.model = model\n",
    "      self.company = company\n",
    "\n",
    "    def move(self):\n",
    "       print(\"Petrol\")\n",
    "\n",
    "class boat:\n",
    "   def __init__(self,model,company):\n",
    "      self.model = model\n",
    "      self.company = company\n",
    "    \n",
    "   def move(self):\n",
    "      print(\"Desiel\")\n",
    "\n",
    "class aircraft:\n",
    "   def __init__(self,model,company):\n",
    "      self.model = model\n",
    "      self.company = company\n",
    "\n",
    "   def move(self):\n",
    "      print(\"Gasoline\")\n",
    "\n",
    "car1 = car(\"Lancer\",\"Evolution\")\n",
    "boat1 = boat(\"Mercedes\",\"Veghaarr\")\n",
    "aircraft1 = aircraft(\"Sukhoi\",\"Gen5\")\n",
    "\n",
    "for x in (car1,boat1,aircraft1):\n",
    "   \n",
    "   x.move()"
   ]
  },
  {
   "cell_type": "code",
   "execution_count": 21,
   "id": "919df331",
   "metadata": {},
   "outputs": [
    {
     "name": "stdout",
     "output_type": "stream",
     "text": [
      "This is GTU\n",
      "This is DAIICT\n"
     ]
    }
   ],
   "source": [
    "class gmit:\n",
    "    def welcome(self,name =\"GTU\"):\n",
    "        return f\"This is {name}\"\n",
    "    \n",
    "\n",
    "college = gmit()\n",
    "\n",
    "print(college.welcome())\n",
    "print(college.welcome(\"DAIICT\"))"
   ]
  },
  {
   "cell_type": "code",
   "execution_count": 24,
   "id": "014d2cea",
   "metadata": {},
   "outputs": [
    {
     "name": "stdout",
     "output_type": "stream",
     "text": [
      "hello teacher\n"
     ]
    }
   ],
   "source": [
    "class parent:\n",
    "    def greet(self):\n",
    "        return \"hello parents\"\n",
    "    \n",
    "class teacher(parent):\n",
    "    def greet(self):\n",
    "        return \"hello teacher\"\n",
    "    \n",
    "teacher = teacher()\n",
    "print(teacher.greet())"
   ]
  }
 ],
 "metadata": {
  "kernelspec": {
   "display_name": "Python 3",
   "language": "python",
   "name": "python3"
  },
  "language_info": {
   "codemirror_mode": {
    "name": "ipython",
    "version": 3
   },
   "file_extension": ".py",
   "mimetype": "text/x-python",
   "name": "python",
   "nbconvert_exporter": "python",
   "pygments_lexer": "ipython3",
   "version": "3.11.9"
  }
 },
 "nbformat": 4,
 "nbformat_minor": 5
}
