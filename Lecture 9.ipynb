{
 "cells": [
  {
   "cell_type": "code",
   "execution_count": 8,
   "id": "51e21966",
   "metadata": {},
   "outputs": [
    {
     "name": "stdout",
     "output_type": "stream",
     "text": [
      "bot\n",
      "<__main__.krish object at 0x00000232B68546D0>\n"
     ]
    }
   ],
   "source": [
    "class krish:\n",
    "   x = \"bot\"\n",
    "\n",
    "lobby = krish()\n",
    "print(lobby.x)\n",
    "\n",
    "print(lobby)\n"
   ]
  },
  {
   "cell_type": "code",
   "execution_count": 9,
   "id": "ecced405",
   "metadata": {},
   "outputs": [
    {
     "name": "stdout",
     "output_type": "stream",
     "text": [
      "65 soni win\n",
      "soni\n",
      "soni\n"
     ]
    }
   ],
   "source": [
    "class krish:\n",
    "\n",
    "    y = 65\n",
    "    x = \"soni\"\n",
    "    z = \"factorize\"\n",
    "    w = \"win\"\n",
    "\n",
    "lobby = krish()\n",
    "area = krish()\n",
    "floor = krish()\n",
    "\n",
    "print(floor.y,floor.x,lobby.w)\n",
    "print(floor.x)\n",
    "print(lobby.x)\n"
   ]
  },
  {
   "cell_type": "code",
   "execution_count": 6,
   "id": "a9e08d92",
   "metadata": {},
   "outputs": [
    {
     "name": "stdout",
     "output_type": "stream",
     "text": [
      "pu\n",
      "21\n",
      "b\n"
     ]
    }
   ],
   "source": [
    "class krish:\n",
    "    def __init__(self,name,age,group):\n",
    "        self.name = name\n",
    "        self.age = age\n",
    "        self.group = group\n",
    "\n",
    "floor = krish(\"pu\", 21, \"b\")\n",
    "\n",
    "print(floor.name)\n",
    "print(floor.age)\n",
    "print(floor.group)"
   ]
  },
  {
   "cell_type": "code",
   "execution_count": 10,
   "id": "a22ba3b2",
   "metadata": {},
   "outputs": [
    {
     "name": "stdout",
     "output_type": "stream",
     "text": [
      "addtion 15.0\n",
      "subtract 11.0\n",
      "multiply 26.0\n",
      "divide 6.5\n",
      "square 169.0\n",
      "root 3.605551275463989\n"
     ]
    }
   ],
   "source": [
    "def add(num1,num2):\n",
    "    return num1 + num2\n",
    "\n",
    "##\n",
    "\n",
    "def sub(num1, num2):\n",
    "    return num1 - num2\n",
    "\n",
    "##\n",
    "\n",
    "def multi(num1, num2):\n",
    "    return num1 * num2\n",
    "\n",
    "##\n",
    "\n",
    "def div(num1,num2):\n",
    "    return num1 / num2\n",
    "\n",
    "##\n",
    "\n",
    "def sqr(num1,num2):\n",
    "    return num1 ** num2\n",
    "\n",
    "## \n",
    "\n",
    "def sqr_rt(num1):\n",
    "    return num1 **0.5\n",
    "\n",
    "##\n",
    "\n",
    "\n",
    "num1 = float(input(\"Enter first number\"))\n",
    "num2 = float(input(\"Enter second number\"))\n",
    "\n",
    "print(\"addtion\", add(num1,num2))\n",
    "\n",
    "print(\"subtract\", sub(num1,num2))\n",
    "\n",
    "print(\"multiply\", multi(num1,num2))\n",
    "\n",
    "print(\"divide\", div(num1,num2))\n",
    "\n",
    "print(\"square\", sqr(num1,num2))\n",
    "\n",
    "print(\"root\", sqr_rt(num1))\n",
    "\n",
    "\n"
   ]
  },
  {
   "cell_type": "code",
   "execution_count": null,
   "id": "3577bd5f",
   "metadata": {},
   "outputs": [],
   "source": []
  }
 ],
 "metadata": {
  "kernelspec": {
   "display_name": "Python 3",
   "language": "python",
   "name": "python3"
  },
  "language_info": {
   "codemirror_mode": {
    "name": "ipython",
    "version": 3
   },
   "file_extension": ".py",
   "mimetype": "text/x-python",
   "name": "python",
   "nbconvert_exporter": "python",
   "pygments_lexer": "ipython3",
   "version": "3.11.9"
  }
 },
 "nbformat": 4,
 "nbformat_minor": 5
}
