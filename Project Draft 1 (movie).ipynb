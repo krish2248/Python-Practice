{
 "cells": [
  {
   "cell_type": "code",
   "execution_count": null,
   "id": "e0a71584",
   "metadata": {},
   "outputs": [
    {
     "name": "stdout",
     "output_type": "stream",
     "text": [
      "Movies for the given genre are : Toy Story, Finding Nemo, Frozen, The Lion King, Moana, Ice Age, Hotel Transylvania, Despicable Me\n"
     ]
    }
   ],
   "source": [
    "# Movie Recommendation System\n",
    "#This project is a simple Python-based Movie Recommendation System. It asks the user to select a preferred movie genre and then suggests movies from that genre. It uses fundamental Python concepts like lists and conditional statements (if-else-elif).\n",
    "# Requirements\n",
    "#- Python installed on your system\n",
    "#- Basic knowledge of Python programming (if-else, lists, loops)\n",
    "# ------> I will create a string-set of genres and use if-elif and also create a string value with movies of that specific genre.\n",
    "# Code Implementation\n",
    "\n",
    "\n",
    "a = input(\"Enter the genre:\")\n",
    "\n",
    "action = (\"James Bond, Mission Impossible, The Bourne, Hitman, The Expendables, John Wick, Fast & Furious\")\n",
    "\n",
    "thriller = (\"Se7en, Zodiac, Prisoners, Gone Girl, Shutter Island, The Sixth Sense, The Departed, The Prestige\")\n",
    "\n",
    "comedy = (\"Johnny English, Bad Boys, The Hangover, Due Date, Ride Along, 21 and Over, Central Intelligence\")\n",
    "\n",
    "adventure = (\"Harry Potter, Jurassic Park, Avatar, The Lord of the Rings, Pirates of the Caribbean, Jumanji\")\n",
    "\n",
    "war = (\"Saving Private Ryan, 1917, Hacksaw Ridge, Greyhound, Operation Mincemeat, All Quiet On The Western Front\")\n",
    "\n",
    "kids = (\"Toy Story, Finding Nemo, Frozen, The Lion King, Moana, Ice Age, Hotel Transylvania, Despicable Me\")\n",
    "\n",
    "horror = (\"The Conjuring, It, Hereditary, The Exorcist, A Quiet Place, The Quiet Place, Annabelle, Insidious\")\n",
    "\n",
    "drama = (\"About Time, The Green Mile, Whiplash, A Beautiful Mind, The Pursuit of Happyness, Good Will Hunting\")\n",
    "\n",
    "romance = (\"The Notebook, Pride and Prejudice, La La Land, A Walk to Remember, Before Sunrise, Call Me by Your Name\")\n",
    "\n",
    "\n",
    "if a == \"action\":\n",
    "    print(\"Movies for the given genre are :\",action)\n",
    "\n",
    "elif a == \"thriller\":\n",
    "    print(\"Movies for the given genre are :\",thriller)\n",
    "\n",
    "elif a == \"comedy\":\n",
    "    print(\"Movies for the given genre are :\",comedy)\n",
    "\n",
    "elif a == \"adventure\":\n",
    "    print(\"Movies for the given genre are :\",adventure)\n",
    "\n",
    "elif a == \"war\":\n",
    "    print(\"Movies for the given genre are :\",war)\n",
    "\n",
    "elif a == \"kids\":\n",
    "    print(\"Movies for the given genre are :\",kids)\n",
    "\n",
    "elif a == \"horror\":\n",
    "    print(\"Movies for the given genre are :\",horror)\n",
    "\n",
    "elif a == \"drama\":\n",
    "    print(\"Movies for the given genre are :\",drama)\n",
    "\n",
    "elif a == \"romance\":\n",
    "    print(\"Movies for the given genre are :\",romance)\n",
    "\n",
    "else:\n",
    "    print(\"Error: Genre not found\")"
   ]
  }
 ],
 "metadata": {
  "kernelspec": {
   "display_name": "Python 3",
   "language": "python",
   "name": "python3"
  },
  "language_info": {
   "codemirror_mode": {
    "name": "ipython",
    "version": 3
   },
   "file_extension": ".py",
   "mimetype": "text/x-python",
   "name": "python",
   "nbconvert_exporter": "python",
   "pygments_lexer": "ipython3",
   "version": "3.11.9"
  }
 },
 "nbformat": 4,
 "nbformat_minor": 5
}
