{
 "cells": [
  {
   "cell_type": "code",
   "execution_count": null,
   "id": "3a39e58a",
   "metadata": {},
   "outputs": [
    {
     "name": "stdout",
     "output_type": "stream",
     "text": [
      "Is the number postive? True\n"
     ]
    }
   ],
   "source": [
    "#negative indexing\n",
    "num = float(input(\"Enter a number: \"))\n",
    "print(f\"Is the number postive? {num > 0}\")"
   ]
  },
  {
   "cell_type": "code",
   "execution_count": null,
   "id": "a1de3395",
   "metadata": {},
   "outputs": [
    {
     "name": "stdout",
     "output_type": "stream",
     "text": [
      "is number even?True\n"
     ]
    }
   ],
   "source": [
    "#check even odd\n",
    "num = float(input(\"enter a number: \"))\n",
    "print(f\"is number even?{num % 2 == 0}\")"
   ]
  },
  {
   "cell_type": "code",
   "execution_count": null,
   "id": "655249b2",
   "metadata": {},
   "outputs": [
    {
     "name": "stdout",
     "output_type": "stream",
     "text": [
      "is the first number even? True\n",
      "is the second number even? True\n"
     ]
    }
   ],
   "source": [
    "#check even odd of two numbers\n",
    "num1 = float(input(\"enter first number: \"))\n",
    "num2 = float(input(\"enter second number: \"))\n",
    "print (f\"is the first number even? {num1 % 2 == 0}\")\n",
    "print (f\"is the second number even? {num2 % 2 == 0}\")"
   ]
  },
  {
   "cell_type": "code",
   "execution_count": null,
   "id": "e3521b2c",
   "metadata": {},
   "outputs": [
    {
     "name": "stdout",
     "output_type": "stream",
     "text": [
      "is the given input a string ? False\n"
     ]
    }
   ],
   "source": [
    "#check if input is string\n",
    "text = input(\"Enter a string value\")\n",
    "print (f\"is the given input a string ? {text.isalpha()}\")"
   ]
  },
  {
   "cell_type": "code",
   "execution_count": null,
   "id": "9cd7f675",
   "metadata": {},
   "outputs": [
    {
     "name": "stdout",
     "output_type": "stream",
     "text": [
      "is the given string starting with the letter 'a' True\n"
     ]
    }
   ],
   "source": [
    "#check if string starts with a\n",
    "text = input(\"enter a string value\")\n",
    "print (f\"is the given string starting with the letter 'a' {text.startswith('a')}\")"
   ]
  },
  {
   "cell_type": "code",
   "execution_count": null,
   "id": "9485e630",
   "metadata": {},
   "outputs": [
    {
     "name": "stdout",
     "output_type": "stream",
     "text": [
      "the given palidrome is : False\n"
     ]
    }
   ],
   "source": [
    "#check if the given word is palidrome\n",
    "\n",
    "text = input(\"enter a palidrome word to check its trueness\")\n",
    "print(f\"the given palidrome is : {text == text [::-1]}\")"
   ]
  },
  {
   "cell_type": "code",
   "execution_count": null,
   "id": "ea824636",
   "metadata": {},
   "outputs": [
    {
     "name": "stdout",
     "output_type": "stream",
     "text": [
      " Is the first number greater than second number ? False\n"
     ]
    }
   ],
   "source": [
    "#compare two numbers\n",
    "num1 = int(input(\"Enter first number\"))\n",
    "num2 = int(input(\"Enter second number\"))\n",
    "\n",
    "print(f\" Is the first number greater than second number ? {num1 > num2}\")"
   ]
  },
  {
   "cell_type": "code",
   "execution_count": null,
   "id": "43934df1",
   "metadata": {},
   "outputs": [
    {
     "name": "stdout",
     "output_type": "stream",
     "text": [
      "is the number between 1 & 10 True\n"
     ]
    }
   ],
   "source": [
    "#check if number is between 1 & 10\n",
    "num = int(input(\"enter a number\"))\n",
    "print(f\"is the number between 1 & 10 {1 <= num <= 10}\")"
   ]
  },
  {
   "cell_type": "code",
   "execution_count": null,
   "id": "d595cf39",
   "metadata": {},
   "outputs": [
    {
     "name": "stdout",
     "output_type": "stream",
     "text": [
      "['apple', 'banana', 'papeya', 'mango', 'citrus', 'pomogrenate']\n"
     ]
    }
   ],
   "source": [
    "#list\n",
    "thislist = [\"apple\", \"banana\", \"papeya\", \"mango\", \"citrus\", \"pomogrenate\"]\n",
    "print(thislist)"
   ]
  },
  {
   "cell_type": "code",
   "execution_count": null,
   "id": "767e7bd8",
   "metadata": {},
   "outputs": [
    {
     "name": "stdout",
     "output_type": "stream",
     "text": [
      "22\n",
      "<class 'list'>\n"
     ]
    }
   ],
   "source": [
    "#list with different data types\n",
    "thislist = [\"3\",\"34\",\"45433\",\"2\",\"apple\", \"banana\", \"papeya\", \"mango\", \"citrus\", \"pomogrenate\",\"apple\",\"a\", \"banana\", \"papeya\", \"mango\", \"citrus\", \"pomogrenate\",\"apple\", \"banana\", \"papeya\", \"mango\", \"citrus\", \"pomogrenate\"]\n",
    "print(len(thislist))\n",
    "print(type(thislist))"
   ]
  },
  {
   "cell_type": "code",
   "execution_count": null,
   "id": "fffaeb49",
   "metadata": {},
   "outputs": [
    {
     "name": "stdout",
     "output_type": "stream",
     "text": [
      "a\n"
     ]
    }
   ],
   "source": [
    "#negative indexing\n",
    "thislist = [\"3\",\"34\",\"45433\",\"2\",\"apple\", \"banana\", \"papeya\", \"mango\", \"citrus\", \"pomogrenate\",\"apple\",\"a\", \"banana\", \"papeya\", \"mango\", \"citrus\", \"pomogrenate\",\"apple\", \"banana\", \"papeya\", \"mango\", \"citrus\", \"pomogrenate\"]\n",
    "print(thislist [-12])       "
   ]
  },
  {
   "cell_type": "code",
   "execution_count": null,
   "id": "e44e31a2",
   "metadata": {},
   "outputs": [
    {
     "name": "stdout",
     "output_type": "stream",
     "text": [
      "['apple', 'banana', 'papeya', 'mango', 'citrus']\n"
     ]
    }
   ],
   "source": [
    "#list constructor\n",
    "thislist = list((\"apple\", \"banana\", \"papeya\", \"mango\", \"citrus\" ))\n",
    "print(thislist)"
   ]
  },
  {
   "cell_type": "code",
   "execution_count": null,
   "id": "040aba6b",
   "metadata": {},
   "outputs": [
    {
     "name": "stdout",
     "output_type": "stream",
     "text": [
      "['45433', '2', 'apple']\n"
     ]
    }
   ],
   "source": [
    "#slicing\n",
    "thislist = [\"3\",\"34\",\"45433\",\"2\",\"apple\", \"banana\", \"papeya\", \"mango\", \"citrus\", \"pomogrenate\",\"apple\",\"a\", \"banana\", \"papeya\", \"mango\", \"citrus\", \"pomogrenate\",\"apple\", \"banana\", \"papeya\", \"mango\", \"citrus\", \"pomogrenate\"]\n",
    "\n",
    "print(thislist[2:5])"
   ]
  },
  {
   "cell_type": "code",
   "execution_count": null,
   "id": "ac95203c",
   "metadata": {},
   "outputs": [
    {
     "name": "stdout",
     "output_type": "stream",
     "text": [
      "['3', '34', '45433', '2', 'apple', 'banana', 'papeya', 'mango']\n"
     ]
    }
   ],
   "source": [
    "#list with different data types\n",
    "thislist = [\"3\",\"34\",\"45433\",\"2\",\"apple\", \"banana\", \"papeya\", \"mango\", \"citrus\", \"pomogrenate\",\"apple\",\"a\", \"banana\", \"papeya\", \"mango\", \"citrus\", \"pomogrenate\",\"apple\", \"banana\", \"papeya\", \"mango\", \"citrus\", \"pomogrenate\"]\n",
    "\n",
    "print(thislist[:8])"
   ]
  },
  {
   "cell_type": "code",
   "execution_count": null,
   "id": "f26e1331",
   "metadata": {},
   "outputs": [
    {
     "name": "stdout",
     "output_type": "stream",
     "text": [
      "['papeya', 'mango', 'citrus', 'pomogrenate', 'apple', 'a', 'banana', 'papeya', 'mango', 'citrus', 'pomogrenate', 'apple', 'banana', 'papeya', 'mango', 'citrus', 'pomogrenate']\n"
     ]
    }
   ],
   "source": [
    "#list with different data types\n",
    "thislist = [\"3\",\"34\",\"45433\",\"2\",\"apple\", \"banana\", \"papeya\", \"mango\", \"citrus\", \"pomogrenate\",\"apple\",\"a\", \"banana\", \"papeya\", \"mango\", \"citrus\", \"pomogrenate\",\"apple\", \"banana\", \"papeya\", \"mango\", \"citrus\", \"pomogrenate\"]\n",
    "\n",
    "print(thislist[6:])"
   ]
  },
  {
   "cell_type": "code",
   "execution_count": null,
   "id": "0edbc6bb",
   "metadata": {},
   "outputs": [
    {
     "name": "stdout",
     "output_type": "stream",
     "text": [
      "['apple', 'a', 'banana', 'papeya', 'mango', 'citrus']\n"
     ]
    }
   ],
   "source": [
    "#list with different data types\n",
    "thislist = [\"3\",\"34\",\"45433\",\"2\",\"apple\", \"banana\", \"papeya\", \"mango\", \"citrus\", \"pomogrenate\",\"apple\",\"a\", \"banana\", \"papeya\", \"mango\", \"citrus\", \"pomogrenate\",\"apple\", \"banana\", \"papeya\", \"mango\", \"citrus\", \"pomogrenate\"]\n",
    "\n",
    "print(thislist[-13:-7])"
   ]
  },
  {
   "cell_type": "code",
   "execution_count": null,
   "id": "5d1f897f",
   "metadata": {},
   "outputs": [
    {
     "name": "stdout",
     "output_type": "stream",
     "text": [
      "Yes pomogrenate is in the list\n"
     ]
    }
   ],
   "source": [
    "#list with different data types\n",
    "thislist = [\"3\",\"34\",\"45433\",\"2\",\"apple\", \"banana\", \"papeya\", \"mango\", \"citrus\", \"pomogrenate\",\"apple\",\"a\", \"banana\", \"papeya\", \"mango\", \"citrus\", \"pomogrenate\",\"apple\", \"banana\", \"papeya\", \"mango\", \"citrus\", \"pomogrenate\"]\n",
    "\n",
    "if \"pomogrenate\" in thislist:\n",
    "    print(\"Yes pomogrenate is in the list\")\n",
    "else:\n",
    "    print(\"no pomogrenate is not the list\")"
   ]
  },
  {
   "cell_type": "code",
   "execution_count": null,
   "id": "a2283c20",
   "metadata": {},
   "outputs": [
    {
     "name": "stdout",
     "output_type": "stream",
     "text": [
      "18\n",
      "36\n",
      "54\n",
      "72\n",
      "90\n",
      "108\n",
      "126\n",
      "144\n",
      "162\n",
      "180\n"
     ]
    }
   ],
   "source": [
    "#range function representing table of 18\n",
    "\n",
    "for num in range(18,181,18):\n",
    "    print(num)"
   ]
  },
  {
   "cell_type": "code",
   "execution_count": null,
   "id": "71eb614e",
   "metadata": {},
   "outputs": [
    {
     "name": "stdout",
     "output_type": "stream",
     "text": [
      "1\n",
      "2\n",
      "3\n",
      "4\n",
      "5\n",
      "6\n",
      "7\n",
      "8\n",
      "9\n",
      "10\n"
     ]
    }
   ],
   "source": [
    "#print numbers from 1 to 10\n",
    "for num in range(1,11):\n",
    "    print(num)"
   ]
  },
  {
   "cell_type": "code",
   "execution_count": null,
   "id": "bcff546c",
   "metadata": {},
   "outputs": [
    {
     "name": "stdout",
     "output_type": "stream",
     "text": [
      "2\n",
      "4\n",
      "6\n",
      "8\n",
      "10\n",
      "12\n",
      "14\n",
      "16\n",
      "18\n",
      "20\n"
     ]
    }
   ],
   "source": [
    "#print even numbers from 2 to 20\n",
    "for num in range(2,21,2):\n",
    "    print(num)"
   ]
  }
 ],
 "metadata": {
  "kernelspec": {
   "display_name": "Python 3",
   "language": "python",
   "name": "python3"
  },
  "language_info": {
   "codemirror_mode": {
    "name": "ipython",
    "version": 3
   },
   "file_extension": ".py",
   "mimetype": "text/x-python",
   "name": "python",
   "nbconvert_exporter": "python",
   "pygments_lexer": "ipython3",
   "version": "3.11.9"
  }
 },
 "nbformat": 4,
 "nbformat_minor": 5
}
