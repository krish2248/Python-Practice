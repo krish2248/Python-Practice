{
 "cells": [
  {
   "cell_type": "code",
   "execution_count": 18,
   "id": "53ff9b15",
   "metadata": {},
   "outputs": [
    {
     "name": "stdout",
     "output_type": "stream",
     "text": [
      "this is a demo file created using pyhton\n"
     ]
    }
   ],
   "source": [
    "f = open(\"krish.txt\", \"a\")\n",
    "f.write(\"this is a demo file created using pyhton\")\n",
    "f.close()\n",
    "\n",
    "f = open(\"krish.txt\", \"r\")\n",
    "\n",
    "print(f.read())\n",
    "\n",
    "f.close()"
   ]
  },
  {
   "cell_type": "code",
   "execution_count": 17,
   "id": "199695bb",
   "metadata": {},
   "outputs": [],
   "source": [
    "import os\n",
    "os.remove(\"krish.txt\")"
   ]
  },
  {
   "cell_type": "code",
   "execution_count": 21,
   "id": "6a120f9d",
   "metadata": {},
   "outputs": [
    {
     "name": "stdout",
     "output_type": "stream",
     "text": [
      "File does not exist\n"
     ]
    }
   ],
   "source": [
    "import os\n",
    "\n",
    "if os.path.exists(\"krish.txt\"):\n",
    "     os.remove(\"krish.txt\")\n",
    "\n",
    "else :\n",
    "     print(\"File does not exist\")"
   ]
  },
  {
   "cell_type": "code",
   "execution_count": null,
   "id": "9a3c480d",
   "metadata": {},
   "outputs": [],
   "source": []
  }
 ],
 "metadata": {
  "kernelspec": {
   "display_name": "Python 3",
   "language": "python",
   "name": "python3"
  },
  "language_info": {
   "codemirror_mode": {
    "name": "ipython",
    "version": 3
   },
   "file_extension": ".py",
   "mimetype": "text/x-python",
   "name": "python",
   "nbconvert_exporter": "python",
   "pygments_lexer": "ipython3",
   "version": "3.11.9"
  }
 },
 "nbformat": 4,
 "nbformat_minor": 5
}
