{
 "cells": [
  {
   "cell_type": "code",
   "execution_count": 53,
   "id": "110c3cd6",
   "metadata": {},
   "outputs": [
    {
     "name": "stdout",
     "output_type": "stream",
     "text": [
      "Requirement already satisfied: numpy in c:\\users\\sonik\\appdata\\local\\packages\\pythonsoftwarefoundation.python.3.11_qbz5n2kfra8p0\\localcache\\local-packages\\python311\\site-packages (2.3.3)\n",
      "Note: you may need to restart the kernel to use updated packages.\n"
     ]
    },
    {
     "name": "stderr",
     "output_type": "stream",
     "text": [
      "\n",
      "[notice] A new release of pip is available: 24.0 -> 25.2\n",
      "[notice] To update, run: C:\\Users\\sonik\\AppData\\Local\\Microsoft\\WindowsApps\\PythonSoftwareFoundation.Python.3.11_qbz5n2kfra8p0\\python.exe -m pip install --upgrade pip\n"
     ]
    }
   ],
   "source": [
    "%pip install numpy"
   ]
  },
  {
   "cell_type": "code",
   "execution_count": 5,
   "id": "7b1069c3",
   "metadata": {},
   "outputs": [],
   "source": [
    "import numpy as np"
   ]
  },
  {
   "cell_type": "code",
   "execution_count": 7,
   "id": "edfdba19",
   "metadata": {},
   "outputs": [
    {
     "name": "stdout",
     "output_type": "stream",
     "text": [
      "[1 2 3 4 4 5 6]\n"
     ]
    }
   ],
   "source": [
    "one = np.array([1,2,3,4,4,5,6])\n",
    "\n",
    "print(one)"
   ]
  },
  {
   "cell_type": "code",
   "execution_count": 10,
   "id": "8e143c36",
   "metadata": {},
   "outputs": [
    {
     "name": "stdout",
     "output_type": "stream",
     "text": [
      "[[  1   2   3   4   4   6]\n",
      " [ 77   5   3 211  35   6]]\n"
     ]
    }
   ],
   "source": [
    "two = np.array([[1,2,3,4,4,6],[77,5,3,211,35,6]])\n",
    "\n",
    "print(two)"
   ]
  },
  {
   "cell_type": "code",
   "execution_count": 13,
   "id": "c767c6aa",
   "metadata": {},
   "outputs": [
    {
     "name": "stdout",
     "output_type": "stream",
     "text": [
      "[[[  123  1123  1212  1212   112]\n",
      "  [  121  3232  2323  2323 23232]\n",
      "  [    1     3     4     5     6]]]\n"
     ]
    }
   ],
   "source": [
    "three = np.array([[[123,1123,1212,1212,112],[121,3232,2323,2323,23232],[1,3,4,5,6]]])\n",
    "\n",
    "print(three)"
   ]
  },
  {
   "cell_type": "code",
   "execution_count": 22,
   "id": "2f4274a2",
   "metadata": {},
   "outputs": [
    {
     "name": "stdout",
     "output_type": "stream",
     "text": [
      "[[[  123  1123  1212  1212   112]]\n",
      "\n",
      " [[  121  3232  2323  2323 23232]]\n",
      "\n",
      " [[    1     3     4     5     6]]]\n"
     ]
    }
   ],
   "source": [
    "three_1 = np.array([[[123,1123,1212,1212,112]],[[121,3232,2323,2323,23232]],[[1,3,4,5,6]]])\n",
    "\n",
    "print(three_1)"
   ]
  },
  {
   "cell_type": "code",
   "execution_count": 18,
   "id": "4080f893",
   "metadata": {},
   "outputs": [
    {
     "data": {
      "text/plain": [
       "(7,)"
      ]
     },
     "execution_count": 18,
     "metadata": {},
     "output_type": "execute_result"
    }
   ],
   "source": [
    "one.shape\n"
   ]
  },
  {
   "cell_type": "code",
   "execution_count": 20,
   "id": "9a6ed606",
   "metadata": {},
   "outputs": [
    {
     "data": {
      "text/plain": [
       "(2, 6)"
      ]
     },
     "execution_count": 20,
     "metadata": {},
     "output_type": "execute_result"
    }
   ],
   "source": [
    "two.shape"
   ]
  },
  {
   "cell_type": "code",
   "execution_count": 24,
   "id": "36706abb",
   "metadata": {},
   "outputs": [
    {
     "data": {
      "text/plain": [
       "(3, 1, 5)"
      ]
     },
     "execution_count": 24,
     "metadata": {},
     "output_type": "execute_result"
    }
   ],
   "source": [
    "three.shape"
   ]
  },
  {
   "cell_type": "code",
   "execution_count": 26,
   "id": "4641e2b3",
   "metadata": {},
   "outputs": [
    {
     "data": {
      "text/plain": [
       "(3, 1, 5)"
      ]
     },
     "execution_count": 26,
     "metadata": {},
     "output_type": "execute_result"
    }
   ],
   "source": [
    "three_1.shape"
   ]
  },
  {
   "cell_type": "code",
   "execution_count": 28,
   "id": "5a82eb72",
   "metadata": {},
   "outputs": [
    {
     "data": {
      "text/plain": [
       "7"
      ]
     },
     "execution_count": 28,
     "metadata": {},
     "output_type": "execute_result"
    }
   ],
   "source": [
    "one.size"
   ]
  },
  {
   "cell_type": "code",
   "execution_count": 31,
   "id": "23bbd3ea",
   "metadata": {},
   "outputs": [
    {
     "data": {
      "text/plain": [
       "12"
      ]
     },
     "execution_count": 31,
     "metadata": {},
     "output_type": "execute_result"
    }
   ],
   "source": [
    "two.size"
   ]
  },
  {
   "cell_type": "code",
   "execution_count": 33,
   "id": "fd3db8e5",
   "metadata": {},
   "outputs": [
    {
     "data": {
      "text/plain": [
       "15"
      ]
     },
     "execution_count": 33,
     "metadata": {},
     "output_type": "execute_result"
    }
   ],
   "source": [
    "three.size"
   ]
  },
  {
   "cell_type": "code",
   "execution_count": 35,
   "id": "c40cc65c",
   "metadata": {},
   "outputs": [
    {
     "data": {
      "text/plain": [
       "8"
      ]
     },
     "execution_count": 35,
     "metadata": {},
     "output_type": "execute_result"
    }
   ],
   "source": [
    "one.itemsize"
   ]
  },
  {
   "cell_type": "code",
   "execution_count": 37,
   "id": "a7525d75",
   "metadata": {},
   "outputs": [
    {
     "data": {
      "text/plain": [
       "dtype('int64')"
      ]
     },
     "execution_count": 37,
     "metadata": {},
     "output_type": "execute_result"
    }
   ],
   "source": [
    "one.dtype"
   ]
  },
  {
   "cell_type": "code",
   "execution_count": 42,
   "id": "ca34f40c",
   "metadata": {},
   "outputs": [
    {
     "name": "stdout",
     "output_type": "stream",
     "text": [
      "[1. 2. 3. 4. 4. 5. 6.]\n"
     ]
    }
   ],
   "source": [
    "one1 = one.astype(\"float\")\n",
    "\n",
    "print(one1)"
   ]
  },
  {
   "cell_type": "code",
   "execution_count": 49,
   "id": "eab96bac",
   "metadata": {},
   "outputs": [
    {
     "name": "stdout",
     "output_type": "stream",
     "text": [
      "[[ True False  True False  True False]\n",
      " [ True  True False  True  True  True]\n",
      " [ True  True  True  True False  True]]\n"
     ]
    }
   ],
   "source": [
    "x = np.array([[1,0,3,0,5,0],[1,2,0,4,5,5],[5,4,3,2,0,1]],dtype=\"bool\")\n",
    "\n",
    "print(x)"
   ]
  },
  {
   "cell_type": "code",
   "execution_count": null,
   "id": "88caa644",
   "metadata": {},
   "outputs": [],
   "source": []
  }
 ],
 "metadata": {
  "kernelspec": {
   "display_name": "Python 3",
   "language": "python",
   "name": "python3"
  },
  "language_info": {
   "codemirror_mode": {
    "name": "ipython",
    "version": 3
   },
   "file_extension": ".py",
   "mimetype": "text/x-python",
   "name": "python",
   "nbconvert_exporter": "python",
   "pygments_lexer": "ipython3",
   "version": "3.11.9"
  }
 },
 "nbformat": 4,
 "nbformat_minor": 5
}
