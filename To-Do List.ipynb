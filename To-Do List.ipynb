{
 "cells": [
  {
   "cell_type": "code",
   "execution_count": null,
   "id": "a1c3cff6",
   "metadata": {},
   "outputs": [],
   "source": [
    "# To-Do List Application (without while loop)\n",
    "\n",
    "def todo_list():\n",
    "    tasks = []\n",
    "\n",
    "    print(\"\\nTo-Do List Menu:\")\n",
    "    print(\"1. Add Task\")\n",
    "    print(\"2. View Tasks\")\n",
    "    print(\"3. Remove Task\")\n",
    "    print(\"4. Exit\")\n",
    "    choice = input(\"Enter choice\")\n",
    "\n",
    "    if choice == '1':\n",
    "        task = input(\"Enter a new task: \")\n",
    "        tasks.append(task)\n",
    "        print(\"Task added!\")\n",
    "        print(\"Current Tasks:\", tasks)\n",
    "\n",
    "    elif choice == '2':\n",
    "        print(\"\\nYour Tasks:\")\n",
    "        if tasks:\n",
    "            for idx, task in enumerate(tasks, 1):\n",
    "                print(f\"{idx}. {task}\")\n",
    "        else:\n",
    "            print(\"No tasks found.\")\n",
    "\n",
    "    elif choice == '3':\n",
    "        print(\"\\nYour Tasks:\")\n",
    "        if tasks:\n",
    "            for idx, task in enumerate(tasks, 1):\n",
    "                print(f\"{idx}. {task}\")\n",
    "            try:\n",
    "                task_num = int(input(\"Enter task number to remove: \"))\n",
    "                tasks.pop(task_num - 1)\n",
    "                print(\"Task removed!\")\n",
    "                print(\"Current Tasks:\", tasks)\n",
    "            except (IndexError, ValueError):\n",
    "                print(\"Invalid task number!\")\n",
    "        else:\n",
    "            print(\"No tasks to remove.\")\n",
    "\n",
    "    elif choice == '4':\n",
    "        print(\"Exiting To-Do List.\")\n",
    "\n",
    "    else:\n",
    "        print(\"Invalid choice!\")\n",
    "\n",
    "todo_list()"
   ]
  }
 ],
 "metadata": {
  "language_info": {
   "name": "python"
  }
 },
 "nbformat": 4,
 "nbformat_minor": 5
}
