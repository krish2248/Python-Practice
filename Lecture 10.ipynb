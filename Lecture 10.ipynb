{
 "cells": [
  {
   "cell_type": "code",
   "execution_count": 4,
   "id": "01d64019",
   "metadata": {},
   "outputs": [
    {
     "name": "stdout",
     "output_type": "stream",
     "text": [
      "mike tyson\n"
     ]
    }
   ],
   "source": [
    "class person:\n",
    "    def __init__(self,fname,lname):\n",
    "        self.firstname = fname\n",
    "        self.lastname = lname\n",
    "\n",
    "    def printname(self):\n",
    "        print(self.firstname, self.lastname)\n",
    "class student(person):\n",
    "    pass\n",
    "\n",
    "x = student(\"mike\",\"tyson\")\n",
    "x.printname()\n"
   ]
  },
  {
   "cell_type": "code",
   "execution_count": 10,
   "id": "f10c5b48",
   "metadata": {},
   "outputs": [
    {
     "name": "stdout",
     "output_type": "stream",
     "text": [
      "mike tyson\n"
     ]
    }
   ],
   "source": [
    "class person:\n",
    "    def __init__(self,fname,lname):\n",
    "        self.firstname = fname\n",
    "        self.lastname = lname\n",
    "\n",
    "    def printname(self):\n",
    "      print(self.firstname,self.lastname)\n",
    "\n",
    "class student(person):\n",
    "   def __init__(self,fname,lname):\n",
    "    person.__init__(self,fname,lname)\n",
    "\n",
    "x = student(\"mike\",\"tyson\")\n",
    "\n",
    "x.printname()"
   ]
  },
  {
   "cell_type": "code",
   "execution_count": 14,
   "id": "e0c87963",
   "metadata": {},
   "outputs": [
    {
     "name": "stdout",
     "output_type": "stream",
     "text": [
      "addition 120\n",
      "subs 40\n",
      "multi 3200\n",
      "divide 2.0\n"
     ]
    }
   ],
   "source": [
    "class mathops():\n",
    "    def __init__(self,num1,num2):\n",
    "        self.num1 = num1\n",
    "        self.num2 = num2\n",
    "\n",
    "    def add(self):\n",
    "        return self.num1 + self.num2\n",
    "    \n",
    "    def subtract(self):\n",
    "        return self.num1 - self.num2\n",
    "    \n",
    "#Child class\n",
    "\n",
    "class advmath(mathops):\n",
    "    def multiple(self):\n",
    "        return self.num1 * self.num2\n",
    "    \n",
    "    def divide(self):\n",
    "        return self.num1 / self.num2 if self.num2 != 0 else \"Cannot divide by 0\"\n",
    "\n",
    "maths = advmath(80,40)\n",
    "\n",
    "print(\"addition\",maths.add())\n",
    "print(\"subs\",maths.subtract())\n",
    "print(\"multi\",maths.multiple())\n",
    "print(\"divide\", maths.divide())"
   ]
  },
  {
   "cell_type": "code",
   "execution_count": 29,
   "id": "41bf72e7",
   "metadata": {},
   "outputs": [
    {
     "name": "stdout",
     "output_type": "stream",
     "text": [
      "hello from parent\n",
      "hello from child\n"
     ]
    }
   ],
   "source": [
    "class parents:\n",
    "    def greet(self):\n",
    "        print(\"hello from parent\")\n",
    "\n",
    "class child(parents):\n",
    "    def greet(self):\n",
    "        super().greet()\n",
    "        print(\"hello from child\")\n",
    "\n",
    "c = child()\n",
    "c.greet()\n"
   ]
  },
  {
   "cell_type": "code",
   "execution_count": 50,
   "id": "19fcc55f",
   "metadata": {},
   "outputs": [
    {
     "name": "stdout",
     "output_type": "stream",
     "text": [
      "hello from baby\n",
      "hello from child\n"
     ]
    }
   ],
   "source": [
    "class Parents:\n",
    "    def greet(self):\n",
    "        print(\"hello from parent\")\n",
    "\n",
    "class Child(Parents):\n",
    "    def greet(self):\n",
    "        print(\"hello from child\")\n",
    "\n",
    "class Baby(Child):\n",
    "    def greet(self):\n",
    "       super().greet() \n",
    "    print(\"hello from baby\")\n",
    "\n",
    "\n",
    "c = parents()\n",
    "c = child()\n",
    "c = Baby()\n",
    "c.greet()"
   ]
  },
  {
   "cell_type": "code",
   "execution_count": 58,
   "id": "3c6f99bb",
   "metadata": {},
   "outputs": [
    {
     "name": "stdout",
     "output_type": "stream",
     "text": [
      "2025\n",
      "krish soni\n"
     ]
    }
   ],
   "source": [
    "class person:\n",
    "    def __init__(self, fname, lname):\n",
    "        self.firstname = fname\n",
    "        self.lastname = lname\n",
    "\n",
    "    def printname(self):\n",
    "        print(self.firstname, self.lastname)\n",
    "\n",
    "class student(person):\n",
    "    def __init__(self,fname,lname):\n",
    "        super().__init__(fname,lname)\n",
    "        self.graduationyear = 2025\n",
    "\n",
    "x = student(\"krish\",\"soni\")\n",
    "\n",
    "print(x.graduationyear)\n",
    "\n",
    "x.printname()"
   ]
  },
  {
   "cell_type": "code",
   "execution_count": 60,
   "id": "043c933e",
   "metadata": {},
   "outputs": [
    {
     "name": "stdout",
     "output_type": "stream",
     "text": [
      "2025\n",
      "krish soni\n"
     ]
    }
   ],
   "source": [
    "class person:\n",
    "    def __init__(self, fname, lname):\n",
    "        self.firstname = fname\n",
    "        self.lastname = lname\n",
    "\n",
    "    def printname(self):\n",
    "        print(self.firstname, self.lastname)\n",
    "\n",
    "class student(person):\n",
    "    def __init__(self,fname,lname,year):\n",
    "        super().__init__(fname,lname)\n",
    "        self.graduationyear = year\n",
    "\n",
    "x = student(\"krish\",\"soni\",2025)\n",
    "\n",
    "print(x.graduationyear)\n",
    "\n",
    "x.printname()"
   ]
  },
  {
   "cell_type": "code",
   "execution_count": 64,
   "id": "9c2e662d",
   "metadata": {},
   "outputs": [
    {
     "name": "stdout",
     "output_type": "stream",
     "text": [
      "2025\n",
      "krish soni\n",
      "welcome priyraj jadeja to the class of 2002\n",
      "welcome krish soni to the class of 2025\n"
     ]
    }
   ],
   "source": [
    "class person:\n",
    "    def __init__(self, fname, lname):\n",
    "        self.firstname = fname\n",
    "        self.lastname = lname\n",
    "\n",
    "    def printname(self):\n",
    "        print(self.firstname, self.lastname)\n",
    "\n",
    "class student(person):\n",
    "    def __init__(self,fname,lname,year):\n",
    "        super().__init__(fname,lname)\n",
    "        self.graduationyear = year\n",
    "\n",
    "    def welcome(self):\n",
    "        print(\"welcome\",self.firstname, self.lastname, \"to the class of\", self.graduationyear)\n",
    "\n",
    "x = student(\"krish\",\"soni\",2025)\n",
    "y = student(\"priyraj\",\"jadeja\",\"2002\")\n",
    "print(x.graduationyear)\n",
    "\n",
    "x.printname()\n",
    "y.welcome()\n",
    "x.welcome()"
   ]
  }
 ],
 "metadata": {
  "kernelspec": {
   "display_name": "Python 3",
   "language": "python",
   "name": "python3"
  },
  "language_info": {
   "codemirror_mode": {
    "name": "ipython",
    "version": 3
   },
   "file_extension": ".py",
   "mimetype": "text/x-python",
   "name": "python",
   "nbconvert_exporter": "python",
   "pygments_lexer": "ipython3",
   "version": "3.11.9"
  }
 },
 "nbformat": 4,
 "nbformat_minor": 5
}
